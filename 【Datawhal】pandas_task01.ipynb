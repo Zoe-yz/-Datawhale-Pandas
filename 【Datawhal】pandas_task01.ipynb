{
  "nbformat": 4,
  "nbformat_minor": 0,
  "metadata": {
    "kernelspec": {
      "display_name": "Python 3",
      "language": "python",
      "name": "python3"
    },
    "language_info": {
      "codemirror_mode": {
        "name": "ipython",
        "version": 3
      },
      "file_extension": ".py",
      "mimetype": "text/x-python",
      "name": "python",
      "nbconvert_exporter": "python",
      "pygments_lexer": "ipython3",
      "version": "3.7.9"
    },
    "colab": {
      "name": "【Datawhal】pandas task01.ipynb",
      "provenance": [],
      "include_colab_link": true
    }
  },
  "cells": [
    {
      "cell_type": "markdown",
      "metadata": {
        "id": "view-in-github",
        "colab_type": "text"
      },
      "source": [
        "<a href=\"https://colab.research.google.com/github/Zoe-yz/-Datawhale-Pandas/blob/main/%E3%80%90Datawhal%E3%80%91pandas_task01.ipynb\" target=\"_parent\"><img src=\"https://colab.research.google.com/assets/colab-badge.svg\" alt=\"Open In Colab\"/></a>"
      ]
    },
    {
      "cell_type": "markdown",
      "metadata": {
        "id": "GcjyZx5eR2kY"
      },
      "source": [
        "# Python基础"
      ]
    },
    {
      "cell_type": "markdown",
      "metadata": {
        "id": "k3zzmXEpR2kd"
      },
      "source": [
        "# 1. 列表推导式与条件赋值"
      ]
    },
    {
      "cell_type": "code",
      "metadata": {
        "id": "MDcKGbD2R2ke"
      },
      "source": [
        "L = []"
      ],
      "execution_count": 1,
      "outputs": []
    },
    {
      "cell_type": "code",
      "metadata": {
        "id": "Hq1QK_f2R2kf"
      },
      "source": [
        "def my_func(x):\n",
        "    return 2*x"
      ],
      "execution_count": 2,
      "outputs": []
    },
    {
      "cell_type": "code",
      "metadata": {
        "id": "hZ5bZjE3R2kf"
      },
      "source": [
        "for i in range(5):\n",
        "    L.append(my_func(i))"
      ],
      "execution_count": 3,
      "outputs": []
    },
    {
      "cell_type": "code",
      "metadata": {
        "colab": {
          "base_uri": "https://localhost:8080/"
        },
        "id": "sWVi6W-jR2kf",
        "outputId": "d9ac3701-803a-44fc-b551-b365d4b295f2"
      },
      "source": [
        "L"
      ],
      "execution_count": 4,
      "outputs": [
        {
          "output_type": "execute_result",
          "data": {
            "text/plain": [
              "[0, 2, 4, 6, 8]"
            ]
          },
          "metadata": {
            "tags": []
          },
          "execution_count": 4
        }
      ]
    },
    {
      "cell_type": "markdown",
      "metadata": {
        "id": "gRDKScgmR2kg"
      },
      "source": [
        "事实上可以利用列表推导式进行写法上的简化： [* for i in *] 。其中，第一个 * 为映射函数，其输入为后面 i 指代的内容，第二个 * 表示迭代的对象。"
      ]
    },
    {
      "cell_type": "code",
      "metadata": {
        "colab": {
          "base_uri": "https://localhost:8080/"
        },
        "id": "n3Q4hUI3R2kg",
        "outputId": "43c00a5f-3f55-44d7-83ec-9223c3758d7d"
      },
      "source": [
        "[my_func(i) for i in range(5)]"
      ],
      "execution_count": 5,
      "outputs": [
        {
          "output_type": "execute_result",
          "data": {
            "text/plain": [
              "[0, 2, 4, 6, 8]"
            ]
          },
          "metadata": {
            "tags": []
          },
          "execution_count": 5
        }
      ]
    },
    {
      "cell_type": "code",
      "metadata": {
        "colab": {
          "base_uri": "https://localhost:8080/"
        },
        "id": "s6DBiSqDR2kh",
        "outputId": "8c1d8138-c3d4-4737-d218-9208eba60cc2"
      },
      "source": [
        "[m+'_'+n for m in ['a', 'b'] for n in ['c', 'd']]"
      ],
      "execution_count": 6,
      "outputs": [
        {
          "output_type": "execute_result",
          "data": {
            "text/plain": [
              "['a_c', 'a_d', 'b_c', 'b_d']"
            ]
          },
          "metadata": {
            "tags": []
          },
          "execution_count": 6
        }
      ]
    },
    {
      "cell_type": "markdown",
      "metadata": {
        "id": "oWd-9im3R2kh"
      },
      "source": [
        "另一个实用的语法糖是带有 if 选择的条件赋值，其形式为 value = a if condition else b ："
      ]
    },
    {
      "cell_type": "code",
      "metadata": {
        "id": "i-WyyomYR2kh"
      },
      "source": [
        "value = 'cat' if 2>1 else 'dog'"
      ],
      "execution_count": 7,
      "outputs": []
    },
    {
      "cell_type": "code",
      "metadata": {
        "colab": {
          "base_uri": "https://localhost:8080/",
          "height": 35
        },
        "id": "pFcDTmUtR2kh",
        "outputId": "5d0b4f6f-dc08-4415-b0b9-0a78a04253e6"
      },
      "source": [
        "value"
      ],
      "execution_count": 8,
      "outputs": [
        {
          "output_type": "execute_result",
          "data": {
            "application/vnd.google.colaboratory.intrinsic+json": {
              "type": "string"
            },
            "text/plain": [
              "'cat'"
            ]
          },
          "metadata": {
            "tags": []
          },
          "execution_count": 8
        }
      ]
    },
    {
      "cell_type": "code",
      "metadata": {
        "id": "rBQ0iVgvR2ki"
      },
      "source": [
        "a, b = 'cat', 'dog'\n",
        "condition = 2>1\n",
        "if condition:\n",
        "    value = a\n",
        "else:\n",
        "    value = b"
      ],
      "execution_count": 9,
      "outputs": []
    },
    {
      "cell_type": "code",
      "metadata": {
        "colab": {
          "base_uri": "https://localhost:8080/",
          "height": 35
        },
        "id": "E9MdaRO4R2ki",
        "outputId": "a5c593e1-8ed8-4660-f262-6b07901a1b59"
      },
      "source": [
        "value"
      ],
      "execution_count": 10,
      "outputs": [
        {
          "output_type": "execute_result",
          "data": {
            "application/vnd.google.colaboratory.intrinsic+json": {
              "type": "string"
            },
            "text/plain": [
              "'cat'"
            ]
          },
          "metadata": {
            "tags": []
          },
          "execution_count": 10
        }
      ]
    },
    {
      "cell_type": "code",
      "metadata": {
        "id": "IPZ-oMZWR2ki"
      },
      "source": [
        "L = [1, 2, 3, 4, 5, 6, 7]"
      ],
      "execution_count": 11,
      "outputs": []
    },
    {
      "cell_type": "code",
      "metadata": {
        "id": "JNn6O7PxR2ki"
      },
      "source": [
        "L = [x if x <=5 else 5 for x in L]"
      ],
      "execution_count": 12,
      "outputs": []
    },
    {
      "cell_type": "code",
      "metadata": {
        "colab": {
          "base_uri": "https://localhost:8080/"
        },
        "id": "bbNbJXOKR2kj",
        "outputId": "fd7a8a89-fe73-4678-97ed-03aa840b9f13"
      },
      "source": [
        "L"
      ],
      "execution_count": 13,
      "outputs": [
        {
          "output_type": "execute_result",
          "data": {
            "text/plain": [
              "[1, 2, 3, 4, 5, 5, 5]"
            ]
          },
          "metadata": {
            "tags": []
          },
          "execution_count": 13
        }
      ]
    },
    {
      "cell_type": "markdown",
      "metadata": {
        "id": "mryZQppvR2kj"
      },
      "source": [
        "# 2. 匿名函数与map方法"
      ]
    },
    {
      "cell_type": "markdown",
      "metadata": {
        "id": "2ecA8rO-R2kj"
      },
      "source": [
        "匿名函数"
      ]
    },
    {
      "cell_type": "code",
      "metadata": {
        "id": "vWI_cSFRR2kj"
      },
      "source": [
        "my_func = lambda x: 2*x"
      ],
      "execution_count": 14,
      "outputs": []
    },
    {
      "cell_type": "code",
      "metadata": {
        "colab": {
          "base_uri": "https://localhost:8080/"
        },
        "id": "KNcZ3MYwR2kj",
        "outputId": "8c3da34f-9a80-4f8c-abfe-f4dee9022738"
      },
      "source": [
        "my_func(3)"
      ],
      "execution_count": 15,
      "outputs": [
        {
          "output_type": "execute_result",
          "data": {
            "text/plain": [
              "6"
            ]
          },
          "metadata": {
            "tags": []
          },
          "execution_count": 15
        }
      ]
    },
    {
      "cell_type": "code",
      "metadata": {
        "id": "VqKs_fY_R2kj"
      },
      "source": [
        "multi_para_func = lambda a, b: a + b"
      ],
      "execution_count": 16,
      "outputs": []
    },
    {
      "cell_type": "code",
      "metadata": {
        "colab": {
          "base_uri": "https://localhost:8080/"
        },
        "id": "6NgtdF5qR2kk",
        "outputId": "09b7cd5e-4f82-489d-a40d-c88aecfc8919"
      },
      "source": [
        "multi_para_func(1, 2)"
      ],
      "execution_count": 17,
      "outputs": [
        {
          "output_type": "execute_result",
          "data": {
            "text/plain": [
              "3"
            ]
          },
          "metadata": {
            "tags": []
          },
          "execution_count": 17
        }
      ]
    },
    {
      "cell_type": "code",
      "metadata": {
        "id": "H4n3CE1HR2kk"
      },
      "source": [
        "multi_para_func = lambda a, b: a - b"
      ],
      "execution_count": 18,
      "outputs": []
    },
    {
      "cell_type": "code",
      "metadata": {
        "colab": {
          "base_uri": "https://localhost:8080/"
        },
        "id": "25Jwtht4R2kk",
        "outputId": "c4254287-4e2e-46a1-fb06-9723c2fd2e4a"
      },
      "source": [
        "multi_para_func(1, 2)"
      ],
      "execution_count": 19,
      "outputs": [
        {
          "output_type": "execute_result",
          "data": {
            "text/plain": [
              "-1"
            ]
          },
          "metadata": {
            "tags": []
          },
          "execution_count": 19
        }
      ]
    },
    {
      "cell_type": "code",
      "metadata": {
        "colab": {
          "base_uri": "https://localhost:8080/"
        },
        "id": "Ou9zQgE7R2kk",
        "outputId": "bc5fa82f-9f11-4c79-8925-2843d8c3cbcf"
      },
      "source": [
        "multi_para_func(2, 1)"
      ],
      "execution_count": 20,
      "outputs": [
        {
          "output_type": "execute_result",
          "data": {
            "text/plain": [
              "1"
            ]
          },
          "metadata": {
            "tags": []
          },
          "execution_count": 20
        }
      ]
    },
    {
      "cell_type": "code",
      "metadata": {
        "colab": {
          "base_uri": "https://localhost:8080/"
        },
        "id": "Yfd5GxRUR2kl",
        "outputId": "6fc68f50-5a16-4a65-aba4-92c2f7b7b966"
      },
      "source": [
        "[(lambda x: 2*x)(i) for i in range(5)]"
      ],
      "execution_count": 21,
      "outputs": [
        {
          "output_type": "execute_result",
          "data": {
            "text/plain": [
              "[0, 2, 4, 6, 8]"
            ]
          },
          "metadata": {
            "tags": []
          },
          "execution_count": 21
        }
      ]
    },
    {
      "cell_type": "markdown",
      "metadata": {
        "id": "dgfNl32UR2kl"
      },
      "source": [
        "map函数，map方法"
      ]
    },
    {
      "cell_type": "markdown",
      "metadata": {
        "id": "qXSTdsHeR2kl"
      },
      "source": [
        "对于上述的这种列表推导式的匿名函数映射， Python 中提供了 map 函数来完成，它返回的是一个 map 对象，需要通过 list 转为列表："
      ]
    },
    {
      "cell_type": "code",
      "metadata": {
        "colab": {
          "base_uri": "https://localhost:8080/"
        },
        "id": "h5h21_AaR2kl",
        "outputId": "3b5e2a7c-9248-4454-9c55-24c83c159c0c"
      },
      "source": [
        "map(lambda x: 2*x, range(5))"
      ],
      "execution_count": 22,
      "outputs": [
        {
          "output_type": "execute_result",
          "data": {
            "text/plain": [
              "<map at 0x7fd88b95fac8>"
            ]
          },
          "metadata": {
            "tags": []
          },
          "execution_count": 22
        }
      ]
    },
    {
      "cell_type": "code",
      "metadata": {
        "colab": {
          "base_uri": "https://localhost:8080/"
        },
        "id": "QlHPfSclR2kl",
        "outputId": "6f5da82f-9a0e-4ebc-9d57-3a3bcb77a3c7"
      },
      "source": [
        "list(map(lambda x: 2*x, range(5)))"
      ],
      "execution_count": 23,
      "outputs": [
        {
          "output_type": "execute_result",
          "data": {
            "text/plain": [
              "[0, 2, 4, 6, 8]"
            ]
          },
          "metadata": {
            "tags": []
          },
          "execution_count": 23
        }
      ]
    },
    {
      "cell_type": "markdown",
      "metadata": {
        "id": "9AyJFWWWR2km"
      },
      "source": [
        "对于多个输入值的函数映射，可以通过追加迭代对象实现："
      ]
    },
    {
      "cell_type": "code",
      "metadata": {
        "colab": {
          "base_uri": "https://localhost:8080/"
        },
        "id": "XU7AxCe-R2km",
        "outputId": "41dce13e-8cb3-40f9-f8b9-c69d93df075d"
      },
      "source": [
        "list(map(lambda x, y: str(x)+'_'+y, range(5), list('abcde')))"
      ],
      "execution_count": 24,
      "outputs": [
        {
          "output_type": "execute_result",
          "data": {
            "text/plain": [
              "['0_a', '1_b', '2_c', '3_d', '4_e']"
            ]
          },
          "metadata": {
            "tags": []
          },
          "execution_count": 24
        }
      ]
    },
    {
      "cell_type": "markdown",
      "metadata": {
        "id": "v26yOGCYR2km"
      },
      "source": [
        "# 3. zip对象与enumerate方法"
      ]
    },
    {
      "cell_type": "markdown",
      "metadata": {
        "id": "sLFH96ebR2km"
      },
      "source": [
        "zip函数能够把多个可迭代对象打包成一个元组构成的可迭代对象，它返回了一个 zip 对象，通过 tuple, list 可以得到相应的打包结果："
      ]
    },
    {
      "cell_type": "code",
      "metadata": {
        "id": "dBs70sTaR2km"
      },
      "source": [
        "L1, L2, L3 = list('abc'), list('def'), list('hij')"
      ],
      "execution_count": 25,
      "outputs": []
    },
    {
      "cell_type": "code",
      "metadata": {
        "colab": {
          "base_uri": "https://localhost:8080/"
        },
        "id": "FljUd2MIR2km",
        "outputId": "d2a59ab6-a60c-41ef-e4ff-672514080394"
      },
      "source": [
        "zip(L1, L2, L3)"
      ],
      "execution_count": 26,
      "outputs": [
        {
          "output_type": "execute_result",
          "data": {
            "text/plain": [
              "<zip at 0x7fd88b962e08>"
            ]
          },
          "metadata": {
            "tags": []
          },
          "execution_count": 26
        }
      ]
    },
    {
      "cell_type": "code",
      "metadata": {
        "colab": {
          "base_uri": "https://localhost:8080/"
        },
        "id": "rvFnZTS5R2kn",
        "outputId": "52f7031a-b312-4178-aa88-ec96973533fa"
      },
      "source": [
        "list(zip(L1, L2, L3))"
      ],
      "execution_count": 27,
      "outputs": [
        {
          "output_type": "execute_result",
          "data": {
            "text/plain": [
              "[('a', 'd', 'h'), ('b', 'e', 'i'), ('c', 'f', 'j')]"
            ]
          },
          "metadata": {
            "tags": []
          },
          "execution_count": 27
        }
      ]
    },
    {
      "cell_type": "code",
      "metadata": {
        "colab": {
          "base_uri": "https://localhost:8080/"
        },
        "id": "VhMt4SQFR2kn",
        "outputId": "c96f70d4-edbf-4f58-dc23-db96e1eceb0b"
      },
      "source": [
        "tuple(zip(L1, L2, L3))"
      ],
      "execution_count": 28,
      "outputs": [
        {
          "output_type": "execute_result",
          "data": {
            "text/plain": [
              "(('a', 'd', 'h'), ('b', 'e', 'i'), ('c', 'f', 'j'))"
            ]
          },
          "metadata": {
            "tags": []
          },
          "execution_count": 28
        }
      ]
    },
    {
      "cell_type": "markdown",
      "metadata": {
        "id": "hlSMgBRFR2kn"
      },
      "source": [
        "往往会在循环迭代的时候使用到 zip 函数："
      ]
    },
    {
      "cell_type": "code",
      "metadata": {
        "colab": {
          "base_uri": "https://localhost:8080/"
        },
        "id": "SQuat0FER2kn",
        "outputId": "912aef42-6a22-4b03-88f5-1b30d4998e95"
      },
      "source": [
        "for i, j, k in zip(L1, L2, L3):\n",
        "    print(i, j, k)"
      ],
      "execution_count": 29,
      "outputs": [
        {
          "output_type": "stream",
          "text": [
            "a d h\n",
            "b e i\n",
            "c f j\n"
          ],
          "name": "stdout"
        }
      ]
    },
    {
      "cell_type": "markdown",
      "metadata": {
        "id": "55uUVSY-R2kn"
      },
      "source": [
        "enumerate 是一种特殊的打包，它可以在迭代时绑定迭代元素的遍历序号："
      ]
    },
    {
      "cell_type": "code",
      "metadata": {
        "id": "q1VQxsHhR2kn"
      },
      "source": [
        "L = list('abcd')"
      ],
      "execution_count": 30,
      "outputs": []
    },
    {
      "cell_type": "code",
      "metadata": {
        "colab": {
          "base_uri": "https://localhost:8080/"
        },
        "id": "e3Mpj4wUR2ko",
        "outputId": "4600715b-d4b3-43f8-fbc9-889ff056ee24"
      },
      "source": [
        "for index, value in enumerate(L):\n",
        "    print(index, value)"
      ],
      "execution_count": 31,
      "outputs": [
        {
          "output_type": "stream",
          "text": [
            "0 a\n",
            "1 b\n",
            "2 c\n",
            "3 d\n"
          ],
          "name": "stdout"
        }
      ]
    },
    {
      "cell_type": "code",
      "metadata": {
        "colab": {
          "base_uri": "https://localhost:8080/"
        },
        "id": "FEXfVnWnR2ko",
        "outputId": "5ede7bd3-a041-4953-d290-a5b4abcd27c3"
      },
      "source": [
        "for index, value in zip(range(len(L)), L):\n",
        "    print(index, value)"
      ],
      "execution_count": 32,
      "outputs": [
        {
          "output_type": "stream",
          "text": [
            "0 a\n",
            "1 b\n",
            "2 c\n",
            "3 d\n"
          ],
          "name": "stdout"
        }
      ]
    },
    {
      "cell_type": "markdown",
      "metadata": {
        "id": "cgTV4_ccR2ko"
      },
      "source": [
        "当需要对两个列表建立字典映射时，可以利用 zip 对象："
      ]
    },
    {
      "cell_type": "code",
      "metadata": {
        "colab": {
          "base_uri": "https://localhost:8080/"
        },
        "id": "ini7lZk4R2ko",
        "outputId": "37a804ef-9d3a-42fa-d44a-bc85c5cf9c77"
      },
      "source": [
        "dict(zip(L1, L2))"
      ],
      "execution_count": 33,
      "outputs": [
        {
          "output_type": "execute_result",
          "data": {
            "text/plain": [
              "{'a': 'd', 'b': 'e', 'c': 'f'}"
            ]
          },
          "metadata": {
            "tags": []
          },
          "execution_count": 33
        }
      ]
    },
    {
      "cell_type": "markdown",
      "metadata": {
        "id": "5WEsBCU_R2kr"
      },
      "source": [
        "既然有了压缩函数，那么 Python 也提供了 * 操作符和 zip 联合使用来进行解压操作："
      ]
    },
    {
      "cell_type": "code",
      "metadata": {
        "id": "oPGRzN02R2kr"
      },
      "source": [
        "zipped = list(zip(L1, L2, L3))"
      ],
      "execution_count": 34,
      "outputs": []
    },
    {
      "cell_type": "code",
      "metadata": {
        "colab": {
          "base_uri": "https://localhost:8080/"
        },
        "id": "6BgsmVPgR2kr",
        "outputId": "5207816e-1af2-4b93-8f1c-dd427704abc1"
      },
      "source": [
        "zipped"
      ],
      "execution_count": 35,
      "outputs": [
        {
          "output_type": "execute_result",
          "data": {
            "text/plain": [
              "[('a', 'd', 'h'), ('b', 'e', 'i'), ('c', 'f', 'j')]"
            ]
          },
          "metadata": {
            "tags": []
          },
          "execution_count": 35
        }
      ]
    },
    {
      "cell_type": "code",
      "metadata": {
        "colab": {
          "base_uri": "https://localhost:8080/"
        },
        "id": "h1if7G7wR2kr",
        "outputId": "0a2f36b3-350e-4bde-8ebe-b77037c53748"
      },
      "source": [
        "list(zip(*zipped))"
      ],
      "execution_count": 36,
      "outputs": [
        {
          "output_type": "execute_result",
          "data": {
            "text/plain": [
              "[('a', 'b', 'c'), ('d', 'e', 'f'), ('h', 'i', 'j')]"
            ]
          },
          "metadata": {
            "tags": []
          },
          "execution_count": 36
        }
      ]
    },
    {
      "cell_type": "markdown",
      "metadata": {
        "id": "tV45rJ6mR2kr"
      },
      "source": [
        "# Numpy基础"
      ]
    },
    {
      "cell_type": "markdown",
      "metadata": {
        "id": "x6q6I8nER2kr"
      },
      "source": [
        "# np数组的构造"
      ]
    },
    {
      "cell_type": "markdown",
      "metadata": {
        "id": "0wREMo82R2kr"
      },
      "source": [
        "最一般的方法是通过 array 来构造："
      ]
    },
    {
      "cell_type": "code",
      "metadata": {
        "colab": {
          "base_uri": "https://localhost:8080/"
        },
        "id": "vnkEvvfPR2ks",
        "outputId": "c563b212-17cd-46a2-e8b5-d8ae6ee585f3"
      },
      "source": [
        "import numpy as np\n",
        "\n",
        "np.array([1,2,3])"
      ],
      "execution_count": 37,
      "outputs": [
        {
          "output_type": "execute_result",
          "data": {
            "text/plain": [
              "array([1, 2, 3])"
            ]
          },
          "metadata": {
            "tags": []
          },
          "execution_count": 37
        }
      ]
    },
    {
      "cell_type": "code",
      "metadata": {
        "colab": {
          "base_uri": "https://localhost:8080/"
        },
        "id": "qnx47tt_R2ks",
        "outputId": "7a81abde-359e-4d28-c861-f7c594306896"
      },
      "source": [
        "np.array(range(3))"
      ],
      "execution_count": 38,
      "outputs": [
        {
          "output_type": "execute_result",
          "data": {
            "text/plain": [
              "array([0, 1, 2])"
            ]
          },
          "metadata": {
            "tags": []
          },
          "execution_count": 38
        }
      ]
    },
    {
      "cell_type": "code",
      "metadata": {
        "colab": {
          "base_uri": "https://localhost:8080/"
        },
        "id": "4bkm3R93R2ks",
        "outputId": "e77222f3-292b-4554-c8a1-16ea8f282e4b"
      },
      "source": [
        "np.array([[1,2,3],[2,3,4]])"
      ],
      "execution_count": 39,
      "outputs": [
        {
          "output_type": "execute_result",
          "data": {
            "text/plain": [
              "array([[1, 2, 3],\n",
              "       [2, 3, 4]])"
            ]
          },
          "metadata": {
            "tags": []
          },
          "execution_count": 39
        }
      ]
    },
    {
      "cell_type": "markdown",
      "metadata": {
        "id": "y86EKoJBR2ks"
      },
      "source": [
        "下面讨论一些特殊数组的生成方式："
      ]
    },
    {
      "cell_type": "markdown",
      "metadata": {
        "id": "HCVE8paFR2ks"
      },
      "source": [
        "【a】等差序列： np.linspace, np.arange"
      ]
    },
    {
      "cell_type": "code",
      "metadata": {
        "colab": {
          "base_uri": "https://localhost:8080/"
        },
        "id": "-plK3hZpR2ks",
        "outputId": "dd9f188d-7616-471d-c066-b43c7ff0d32f"
      },
      "source": [
        "np.linspace(2, 8, 10)  # 起始、终止（包含）、样本个数"
      ],
      "execution_count": 40,
      "outputs": [
        {
          "output_type": "execute_result",
          "data": {
            "text/plain": [
              "array([2.        , 2.66666667, 3.33333333, 4.        , 4.66666667,\n",
              "       5.33333333, 6.        , 6.66666667, 7.33333333, 8.        ])"
            ]
          },
          "metadata": {
            "tags": []
          },
          "execution_count": 40
        }
      ]
    },
    {
      "cell_type": "code",
      "metadata": {
        "colab": {
          "base_uri": "https://localhost:8080/"
        },
        "id": "ycmpXy_8R2kt",
        "outputId": "00f6d2f3-a2a6-4c5c-e65a-9761788ad0ae"
      },
      "source": [
        "np.arange(2, 8.1, 0.6) # 起始、终止（不包含）、步长"
      ],
      "execution_count": 41,
      "outputs": [
        {
          "output_type": "execute_result",
          "data": {
            "text/plain": [
              "array([2. , 2.6, 3.2, 3.8, 4.4, 5. , 5.6, 6.2, 6.8, 7.4, 8. ])"
            ]
          },
          "metadata": {
            "tags": []
          },
          "execution_count": 41
        }
      ]
    },
    {
      "cell_type": "code",
      "metadata": {
        "colab": {
          "base_uri": "https://localhost:8080/"
        },
        "id": "TR0CFBJCR2kt",
        "outputId": "5988a4fa-4eeb-4d6c-c888-8976139dcb7d"
      },
      "source": [
        "np.linspace(2, 8, 4)"
      ],
      "execution_count": 42,
      "outputs": [
        {
          "output_type": "execute_result",
          "data": {
            "text/plain": [
              "array([2., 4., 6., 8.])"
            ]
          },
          "metadata": {
            "tags": []
          },
          "execution_count": 42
        }
      ]
    },
    {
      "cell_type": "code",
      "metadata": {
        "colab": {
          "base_uri": "https://localhost:8080/"
        },
        "id": "T7ukmDQrR2kt",
        "outputId": "8503e5ce-1639-4923-ce66-cb4f0fdd0418"
      },
      "source": [
        "np.arange(2, 9, 2)"
      ],
      "execution_count": 43,
      "outputs": [
        {
          "output_type": "execute_result",
          "data": {
            "text/plain": [
              "array([2, 4, 6, 8])"
            ]
          },
          "metadata": {
            "tags": []
          },
          "execution_count": 43
        }
      ]
    },
    {
      "cell_type": "markdown",
      "metadata": {
        "id": "aYBYJEQFR2kt"
      },
      "source": [
        "【b】特殊矩阵： zeros, eye, full"
      ]
    },
    {
      "cell_type": "code",
      "metadata": {
        "colab": {
          "base_uri": "https://localhost:8080/"
        },
        "id": "-WIF1gbOR2kt",
        "outputId": "93b40ce1-5e40-443c-bf28-0f8b1c23d77d"
      },
      "source": [
        "np.zeros((2,3)) # 传入元组表示各维度大小"
      ],
      "execution_count": 44,
      "outputs": [
        {
          "output_type": "execute_result",
          "data": {
            "text/plain": [
              "array([[0., 0., 0.],\n",
              "       [0., 0., 0.]])"
            ]
          },
          "metadata": {
            "tags": []
          },
          "execution_count": 44
        }
      ]
    },
    {
      "cell_type": "code",
      "metadata": {
        "colab": {
          "base_uri": "https://localhost:8080/",
          "height": 164
        },
        "id": "Y2Q7uXIiR2kt",
        "outputId": "b24574c6-cf64-4393-a715-f07fedff8fc5"
      },
      "source": [
        "np.zeros(2, 3)"
      ],
      "execution_count": 45,
      "outputs": [
        {
          "output_type": "error",
          "ename": "TypeError",
          "evalue": "ignored",
          "traceback": [
            "\u001b[0;31m---------------------------------------------------------------------------\u001b[0m",
            "\u001b[0;31mTypeError\u001b[0m                                 Traceback (most recent call last)",
            "\u001b[0;32m<ipython-input-45-9590e137049c>\u001b[0m in \u001b[0;36m<module>\u001b[0;34m()\u001b[0m\n\u001b[0;32m----> 1\u001b[0;31m \u001b[0mnp\u001b[0m\u001b[0;34m.\u001b[0m\u001b[0mzeros\u001b[0m\u001b[0;34m(\u001b[0m\u001b[0;36m2\u001b[0m\u001b[0;34m,\u001b[0m \u001b[0;36m3\u001b[0m\u001b[0;34m)\u001b[0m\u001b[0;34m\u001b[0m\u001b[0;34m\u001b[0m\u001b[0m\n\u001b[0m",
            "\u001b[0;31mTypeError\u001b[0m: data type not understood"
          ]
        }
      ]
    },
    {
      "cell_type": "code",
      "metadata": {
        "colab": {
          "base_uri": "https://localhost:8080/"
        },
        "id": "SOdT-ynYR2ku",
        "outputId": "0cd0db6f-f43b-47fe-cc22-3c9e5d32df3c"
      },
      "source": [
        "np.eye(3) # 3*3的单位矩阵"
      ],
      "execution_count": 46,
      "outputs": [
        {
          "output_type": "execute_result",
          "data": {
            "text/plain": [
              "array([[1., 0., 0.],\n",
              "       [0., 1., 0.],\n",
              "       [0., 0., 1.]])"
            ]
          },
          "metadata": {
            "tags": []
          },
          "execution_count": 46
        }
      ]
    },
    {
      "cell_type": "code",
      "metadata": {
        "colab": {
          "base_uri": "https://localhost:8080/"
        },
        "id": "A9hAtT0SR2ku",
        "outputId": "c73bae78-6f27-422b-fb41-138ba25585ae"
      },
      "source": [
        "np.eye(3, k=1) #偏移主对角线1个单位的为单位矩阵"
      ],
      "execution_count": 47,
      "outputs": [
        {
          "output_type": "execute_result",
          "data": {
            "text/plain": [
              "array([[0., 1., 0.],\n",
              "       [0., 0., 1.],\n",
              "       [0., 0., 0.]])"
            ]
          },
          "metadata": {
            "tags": []
          },
          "execution_count": 47
        }
      ]
    },
    {
      "cell_type": "code",
      "metadata": {
        "colab": {
          "base_uri": "https://localhost:8080/"
        },
        "id": "7BnbavBPR2ku",
        "outputId": "298d8f47-35f2-4747-9316-c96966d8c255"
      },
      "source": [
        "np.eye(5, k=2)"
      ],
      "execution_count": 48,
      "outputs": [
        {
          "output_type": "execute_result",
          "data": {
            "text/plain": [
              "array([[0., 0., 1., 0., 0.],\n",
              "       [0., 0., 0., 1., 0.],\n",
              "       [0., 0., 0., 0., 1.],\n",
              "       [0., 0., 0., 0., 0.],\n",
              "       [0., 0., 0., 0., 0.]])"
            ]
          },
          "metadata": {
            "tags": []
          },
          "execution_count": 48
        }
      ]
    },
    {
      "cell_type": "code",
      "metadata": {
        "colab": {
          "base_uri": "https://localhost:8080/"
        },
        "id": "vxr07vpyR2ku",
        "outputId": "ff9dc2b9-bdff-4759-bd9d-c29b1067f157"
      },
      "source": [
        "np.eye(5, 2)"
      ],
      "execution_count": 50,
      "outputs": [
        {
          "output_type": "execute_result",
          "data": {
            "text/plain": [
              "array([[1., 0.],\n",
              "       [0., 1.],\n",
              "       [0., 0.],\n",
              "       [0., 0.],\n",
              "       [0., 0.]])"
            ]
          },
          "metadata": {
            "tags": []
          },
          "execution_count": 50
        }
      ]
    },
    {
      "cell_type": "code",
      "metadata": {
        "colab": {
          "base_uri": "https://localhost:8080/",
          "height": 283
        },
        "id": "s3GbK-ODR2ku",
        "outputId": "accebf45-1f1c-4600-dc7d-993844721237"
      },
      "source": [
        "np.eye((5, 2))"
      ],
      "execution_count": 51,
      "outputs": [
        {
          "output_type": "error",
          "ename": "TypeError",
          "evalue": "ignored",
          "traceback": [
            "\u001b[0;31m---------------------------------------------------------------------------\u001b[0m",
            "\u001b[0;31mTypeError\u001b[0m                                 Traceback (most recent call last)",
            "\u001b[0;32m<ipython-input-51-871b45ce2bec>\u001b[0m in \u001b[0;36m<module>\u001b[0;34m()\u001b[0m\n\u001b[0;32m----> 1\u001b[0;31m \u001b[0mnp\u001b[0m\u001b[0;34m.\u001b[0m\u001b[0meye\u001b[0m\u001b[0;34m(\u001b[0m\u001b[0;34m(\u001b[0m\u001b[0;36m5\u001b[0m\u001b[0;34m,\u001b[0m \u001b[0;36m2\u001b[0m\u001b[0;34m)\u001b[0m\u001b[0;34m)\u001b[0m\u001b[0;34m\u001b[0m\u001b[0;34m\u001b[0m\u001b[0m\n\u001b[0m",
            "\u001b[0;32m/usr/local/lib/python3.6/dist-packages/numpy/lib/twodim_base.py\u001b[0m in \u001b[0;36meye\u001b[0;34m(N, M, k, dtype, order)\u001b[0m\n\u001b[1;32m    199\u001b[0m     \u001b[0;32mif\u001b[0m \u001b[0mM\u001b[0m \u001b[0;32mis\u001b[0m \u001b[0;32mNone\u001b[0m\u001b[0;34m:\u001b[0m\u001b[0;34m\u001b[0m\u001b[0;34m\u001b[0m\u001b[0m\n\u001b[1;32m    200\u001b[0m         \u001b[0mM\u001b[0m \u001b[0;34m=\u001b[0m \u001b[0mN\u001b[0m\u001b[0;34m\u001b[0m\u001b[0;34m\u001b[0m\u001b[0m\n\u001b[0;32m--> 201\u001b[0;31m     \u001b[0mm\u001b[0m \u001b[0;34m=\u001b[0m \u001b[0mzeros\u001b[0m\u001b[0;34m(\u001b[0m\u001b[0;34m(\u001b[0m\u001b[0mN\u001b[0m\u001b[0;34m,\u001b[0m \u001b[0mM\u001b[0m\u001b[0;34m)\u001b[0m\u001b[0;34m,\u001b[0m \u001b[0mdtype\u001b[0m\u001b[0;34m=\u001b[0m\u001b[0mdtype\u001b[0m\u001b[0;34m,\u001b[0m \u001b[0morder\u001b[0m\u001b[0;34m=\u001b[0m\u001b[0morder\u001b[0m\u001b[0;34m)\u001b[0m\u001b[0;34m\u001b[0m\u001b[0;34m\u001b[0m\u001b[0m\n\u001b[0m\u001b[1;32m    202\u001b[0m     \u001b[0;32mif\u001b[0m \u001b[0mk\u001b[0m \u001b[0;34m>=\u001b[0m \u001b[0mM\u001b[0m\u001b[0;34m:\u001b[0m\u001b[0;34m\u001b[0m\u001b[0;34m\u001b[0m\u001b[0m\n\u001b[1;32m    203\u001b[0m         \u001b[0;32mreturn\u001b[0m \u001b[0mm\u001b[0m\u001b[0;34m\u001b[0m\u001b[0;34m\u001b[0m\u001b[0m\n",
            "\u001b[0;31mTypeError\u001b[0m: 'tuple' object cannot be interpreted as an integer"
          ]
        }
      ]
    },
    {
      "cell_type": "code",
      "metadata": {
        "colab": {
          "base_uri": "https://localhost:8080/"
        },
        "id": "ALypq_ajR2ku",
        "outputId": "a409ac73-6357-45ae-fe3a-5d1de2c36887"
      },
      "source": [
        "np.full((2,3), 5)"
      ],
      "execution_count": 52,
      "outputs": [
        {
          "output_type": "execute_result",
          "data": {
            "text/plain": [
              "array([[5, 5, 5],\n",
              "       [5, 5, 5]])"
            ]
          },
          "metadata": {
            "tags": []
          },
          "execution_count": 52
        }
      ]
    },
    {
      "cell_type": "code",
      "metadata": {
        "colab": {
          "base_uri": "https://localhost:8080/"
        },
        "id": "VktHsYLkR2kv",
        "outputId": "9ef36e09-273f-46d0-b84e-4bcd3c9e8987"
      },
      "source": [
        "np.full((2,3), [2,2,2])"
      ],
      "execution_count": 53,
      "outputs": [
        {
          "output_type": "execute_result",
          "data": {
            "text/plain": [
              "array([[2, 2, 2],\n",
              "       [2, 2, 2]])"
            ]
          },
          "metadata": {
            "tags": []
          },
          "execution_count": 53
        }
      ]
    },
    {
      "cell_type": "code",
      "metadata": {
        "colab": {
          "base_uri": "https://localhost:8080/",
          "height": 283
        },
        "id": "oyP-H4sFR2kv",
        "outputId": "3429ebe6-a57f-444c-c067-cab88c808ed9"
      },
      "source": [
        "np.full((2,3), [2,2,2], [3,3,3])"
      ],
      "execution_count": 54,
      "outputs": [
        {
          "output_type": "error",
          "ename": "TypeError",
          "evalue": "ignored",
          "traceback": [
            "\u001b[0;31m---------------------------------------------------------------------------\u001b[0m",
            "\u001b[0;31mTypeError\u001b[0m                                 Traceback (most recent call last)",
            "\u001b[0;32m<ipython-input-54-352e82eb1b36>\u001b[0m in \u001b[0;36m<module>\u001b[0;34m()\u001b[0m\n\u001b[0;32m----> 1\u001b[0;31m \u001b[0mnp\u001b[0m\u001b[0;34m.\u001b[0m\u001b[0mfull\u001b[0m\u001b[0;34m(\u001b[0m\u001b[0;34m(\u001b[0m\u001b[0;36m2\u001b[0m\u001b[0;34m,\u001b[0m\u001b[0;36m3\u001b[0m\u001b[0;34m)\u001b[0m\u001b[0;34m,\u001b[0m \u001b[0;34m[\u001b[0m\u001b[0;36m2\u001b[0m\u001b[0;34m,\u001b[0m\u001b[0;36m2\u001b[0m\u001b[0;34m,\u001b[0m\u001b[0;36m2\u001b[0m\u001b[0;34m]\u001b[0m\u001b[0;34m,\u001b[0m \u001b[0;34m[\u001b[0m\u001b[0;36m3\u001b[0m\u001b[0;34m,\u001b[0m\u001b[0;36m3\u001b[0m\u001b[0;34m,\u001b[0m\u001b[0;36m3\u001b[0m\u001b[0;34m]\u001b[0m\u001b[0;34m)\u001b[0m\u001b[0;34m\u001b[0m\u001b[0;34m\u001b[0m\u001b[0m\n\u001b[0m",
            "\u001b[0;32m/usr/local/lib/python3.6/dist-packages/numpy/core/numeric.py\u001b[0m in \u001b[0;36mfull\u001b[0;34m(shape, fill_value, dtype, order)\u001b[0m\n\u001b[1;32m    323\u001b[0m     \u001b[0;32mif\u001b[0m \u001b[0mdtype\u001b[0m \u001b[0;32mis\u001b[0m \u001b[0;32mNone\u001b[0m\u001b[0;34m:\u001b[0m\u001b[0;34m\u001b[0m\u001b[0;34m\u001b[0m\u001b[0m\n\u001b[1;32m    324\u001b[0m         \u001b[0mdtype\u001b[0m \u001b[0;34m=\u001b[0m \u001b[0marray\u001b[0m\u001b[0;34m(\u001b[0m\u001b[0mfill_value\u001b[0m\u001b[0;34m)\u001b[0m\u001b[0;34m.\u001b[0m\u001b[0mdtype\u001b[0m\u001b[0;34m\u001b[0m\u001b[0;34m\u001b[0m\u001b[0m\n\u001b[0;32m--> 325\u001b[0;31m     \u001b[0ma\u001b[0m \u001b[0;34m=\u001b[0m \u001b[0mempty\u001b[0m\u001b[0;34m(\u001b[0m\u001b[0mshape\u001b[0m\u001b[0;34m,\u001b[0m \u001b[0mdtype\u001b[0m\u001b[0;34m,\u001b[0m \u001b[0morder\u001b[0m\u001b[0;34m)\u001b[0m\u001b[0;34m\u001b[0m\u001b[0;34m\u001b[0m\u001b[0m\n\u001b[0m\u001b[1;32m    326\u001b[0m     \u001b[0mmultiarray\u001b[0m\u001b[0;34m.\u001b[0m\u001b[0mcopyto\u001b[0m\u001b[0;34m(\u001b[0m\u001b[0ma\u001b[0m\u001b[0;34m,\u001b[0m \u001b[0mfill_value\u001b[0m\u001b[0;34m,\u001b[0m \u001b[0mcasting\u001b[0m\u001b[0;34m=\u001b[0m\u001b[0;34m'unsafe'\u001b[0m\u001b[0;34m)\u001b[0m\u001b[0;34m\u001b[0m\u001b[0;34m\u001b[0m\u001b[0m\n\u001b[1;32m    327\u001b[0m     \u001b[0;32mreturn\u001b[0m \u001b[0ma\u001b[0m\u001b[0;34m\u001b[0m\u001b[0;34m\u001b[0m\u001b[0m\n",
            "\u001b[0;31mTypeError\u001b[0m: data type not understood"
          ]
        }
      ]
    },
    {
      "cell_type": "code",
      "metadata": {
        "colab": {
          "base_uri": "https://localhost:8080/"
        },
        "id": "lVXslyKZR2kv",
        "outputId": "76ac461a-a6f6-48aa-a09d-7d5ccf313107"
      },
      "source": [
        "np.full((2,3), [[2,2,2], [3,3,3]])"
      ],
      "execution_count": 55,
      "outputs": [
        {
          "output_type": "execute_result",
          "data": {
            "text/plain": [
              "array([[2, 2, 2],\n",
              "       [3, 3, 3]])"
            ]
          },
          "metadata": {
            "tags": []
          },
          "execution_count": 55
        }
      ]
    },
    {
      "cell_type": "code",
      "metadata": {
        "colab": {
          "base_uri": "https://localhost:8080/",
          "height": 317
        },
        "id": "jNJbBlmLR2kv",
        "outputId": "3c0b6b9b-73fd-440e-edc6-9574bebde298"
      },
      "source": [
        "np.full((2,3), [1,2])"
      ],
      "execution_count": 56,
      "outputs": [
        {
          "output_type": "error",
          "ename": "ValueError",
          "evalue": "ignored",
          "traceback": [
            "\u001b[0;31m---------------------------------------------------------------------------\u001b[0m",
            "\u001b[0;31mValueError\u001b[0m                                Traceback (most recent call last)",
            "\u001b[0;32m<ipython-input-56-4175c2f0bafe>\u001b[0m in \u001b[0;36m<module>\u001b[0;34m()\u001b[0m\n\u001b[0;32m----> 1\u001b[0;31m \u001b[0mnp\u001b[0m\u001b[0;34m.\u001b[0m\u001b[0mfull\u001b[0m\u001b[0;34m(\u001b[0m\u001b[0;34m(\u001b[0m\u001b[0;36m2\u001b[0m\u001b[0;34m,\u001b[0m\u001b[0;36m3\u001b[0m\u001b[0;34m)\u001b[0m\u001b[0;34m,\u001b[0m \u001b[0;34m[\u001b[0m\u001b[0;36m1\u001b[0m\u001b[0;34m,\u001b[0m\u001b[0;36m2\u001b[0m\u001b[0;34m]\u001b[0m\u001b[0;34m)\u001b[0m\u001b[0;34m\u001b[0m\u001b[0;34m\u001b[0m\u001b[0m\n\u001b[0m",
            "\u001b[0;32m/usr/local/lib/python3.6/dist-packages/numpy/core/numeric.py\u001b[0m in \u001b[0;36mfull\u001b[0;34m(shape, fill_value, dtype, order)\u001b[0m\n\u001b[1;32m    324\u001b[0m         \u001b[0mdtype\u001b[0m \u001b[0;34m=\u001b[0m \u001b[0marray\u001b[0m\u001b[0;34m(\u001b[0m\u001b[0mfill_value\u001b[0m\u001b[0;34m)\u001b[0m\u001b[0;34m.\u001b[0m\u001b[0mdtype\u001b[0m\u001b[0;34m\u001b[0m\u001b[0;34m\u001b[0m\u001b[0m\n\u001b[1;32m    325\u001b[0m     \u001b[0ma\u001b[0m \u001b[0;34m=\u001b[0m \u001b[0mempty\u001b[0m\u001b[0;34m(\u001b[0m\u001b[0mshape\u001b[0m\u001b[0;34m,\u001b[0m \u001b[0mdtype\u001b[0m\u001b[0;34m,\u001b[0m \u001b[0morder\u001b[0m\u001b[0;34m)\u001b[0m\u001b[0;34m\u001b[0m\u001b[0;34m\u001b[0m\u001b[0m\n\u001b[0;32m--> 326\u001b[0;31m     \u001b[0mmultiarray\u001b[0m\u001b[0;34m.\u001b[0m\u001b[0mcopyto\u001b[0m\u001b[0;34m(\u001b[0m\u001b[0ma\u001b[0m\u001b[0;34m,\u001b[0m \u001b[0mfill_value\u001b[0m\u001b[0;34m,\u001b[0m \u001b[0mcasting\u001b[0m\u001b[0;34m=\u001b[0m\u001b[0;34m'unsafe'\u001b[0m\u001b[0;34m)\u001b[0m\u001b[0;34m\u001b[0m\u001b[0;34m\u001b[0m\u001b[0m\n\u001b[0m\u001b[1;32m    327\u001b[0m     \u001b[0;32mreturn\u001b[0m \u001b[0ma\u001b[0m\u001b[0;34m\u001b[0m\u001b[0;34m\u001b[0m\u001b[0m\n\u001b[1;32m    328\u001b[0m \u001b[0;34m\u001b[0m\u001b[0m\n",
            "\u001b[0;32m<__array_function__ internals>\u001b[0m in \u001b[0;36mcopyto\u001b[0;34m(*args, **kwargs)\u001b[0m\n",
            "\u001b[0;31mValueError\u001b[0m: could not broadcast input array from shape (2) into shape (2,3)"
          ]
        }
      ]
    },
    {
      "cell_type": "markdown",
      "metadata": {
        "id": "I1ZSFmw-R2kv"
      },
      "source": [
        "【c】随机矩阵： np.random"
      ]
    },
    {
      "cell_type": "markdown",
      "metadata": {
        "id": "pYo0j-7xR2kw"
      },
      "source": [
        "最常用的随机生成函数为 rand, randn, randint, choice ，它们分别表示0-1均匀分布的随机数组、标准正态的随机数组、随机整数组和随机列表抽样："
      ]
    },
    {
      "cell_type": "code",
      "metadata": {
        "colab": {
          "base_uri": "https://localhost:8080/"
        },
        "id": "q8rk_vOkR2kw",
        "outputId": "23d1c80c-8407-4be9-d757-a56a410fdde4"
      },
      "source": [
        "np.random.rand(4) #生成服从0-1均匀分布的三个随机数"
      ],
      "execution_count": 58,
      "outputs": [
        {
          "output_type": "execute_result",
          "data": {
            "text/plain": [
              "array([0.97603324, 0.77105812, 0.61874449, 0.41317609])"
            ]
          },
          "metadata": {
            "tags": []
          },
          "execution_count": 58
        }
      ]
    },
    {
      "cell_type": "code",
      "metadata": {
        "colab": {
          "base_uri": "https://localhost:8080/"
        },
        "id": "9NvGaYZeR2kw",
        "outputId": "40239c2d-a0b7-419b-9a62-d9390899167a"
      },
      "source": [
        "np.random.rand(5,3) #array的每个维度大小"
      ],
      "execution_count": 59,
      "outputs": [
        {
          "output_type": "execute_result",
          "data": {
            "text/plain": [
              "array([[0.00339871, 0.0253952 , 0.28052608],\n",
              "       [0.90755495, 0.18704743, 0.02958394],\n",
              "       [0.21079541, 0.77978479, 0.07139559],\n",
              "       [0.18787401, 0.50899012, 0.52970753],\n",
              "       [0.51648955, 0.99476426, 0.56991249]])"
            ]
          },
          "metadata": {
            "tags": []
          },
          "execution_count": 59
        }
      ]
    },
    {
      "cell_type": "code",
      "metadata": {
        "colab": {
          "base_uri": "https://localhost:8080/"
        },
        "id": "ME6uEK-ZR2kw",
        "outputId": "795e0ed1-bde4-40de-c161-4a512d4721fb"
      },
      "source": [
        "np.random.rand(4, 2, 3)"
      ],
      "execution_count": 60,
      "outputs": [
        {
          "output_type": "execute_result",
          "data": {
            "text/plain": [
              "array([[[0.73792039, 0.05257422, 0.13293683],\n",
              "        [0.07709024, 0.61523575, 0.32037267]],\n",
              "\n",
              "       [[0.33054457, 0.69342497, 0.81183221],\n",
              "        [0.94100226, 0.28251911, 0.99898848]],\n",
              "\n",
              "       [[0.83938887, 0.26449091, 0.77397812],\n",
              "        [0.80032844, 0.34050202, 0.36370028]],\n",
              "\n",
              "       [[0.67974796, 0.04373713, 0.87917732],\n",
              "        [0.59920656, 0.76469633, 0.85350783]]])"
            ]
          },
          "metadata": {
            "tags": []
          },
          "execution_count": 60
        }
      ]
    },
    {
      "cell_type": "markdown",
      "metadata": {
        "id": "RlWT8RMiR2kw"
      },
      "source": [
        "对于服从区间 𝑎 到 𝑏 上的均匀分布可以如下生成："
      ]
    },
    {
      "cell_type": "code",
      "metadata": {
        "colab": {
          "base_uri": "https://localhost:8080/"
        },
        "id": "EdzNjO7aR2kw",
        "outputId": "d97e9002-ee39-4125-ae56-fd0353e4fb29"
      },
      "source": [
        "a, b = 2, 8\n",
        "\n",
        "(b - a) * np.random.rand(5) + a"
      ],
      "execution_count": 61,
      "outputs": [
        {
          "output_type": "execute_result",
          "data": {
            "text/plain": [
              "array([6.4957003 , 5.51496341, 2.54992812, 3.29337459, 2.06672063])"
            ]
          },
          "metadata": {
            "tags": []
          },
          "execution_count": 61
        }
      ]
    },
    {
      "cell_type": "markdown",
      "metadata": {
        "id": "NbT49_G_R2kw"
      },
      "source": [
        "**randn** 生成了 𝑁(0,𝐈) 的标准正态分布"
      ]
    },
    {
      "cell_type": "code",
      "metadata": {
        "colab": {
          "base_uri": "https://localhost:8080/"
        },
        "id": "RVxkawu9R2kx",
        "outputId": "848537eb-8165-4cf0-c211-4ad571efe52d"
      },
      "source": [
        "np.random.randn(2)"
      ],
      "execution_count": 62,
      "outputs": [
        {
          "output_type": "execute_result",
          "data": {
            "text/plain": [
              "array([ 0.34903438, -0.44212789])"
            ]
          },
          "metadata": {
            "tags": []
          },
          "execution_count": 62
        }
      ]
    },
    {
      "cell_type": "code",
      "metadata": {
        "colab": {
          "base_uri": "https://localhost:8080/"
        },
        "id": "JkYFN8RNR2kx",
        "outputId": "1c506b56-471f-4157-d57e-7d716f45d153"
      },
      "source": [
        "np.random.randn(2, 5)"
      ],
      "execution_count": 63,
      "outputs": [
        {
          "output_type": "execute_result",
          "data": {
            "text/plain": [
              "array([[ 1.5112729 ,  0.32507158,  0.63405931,  0.99292003, -0.89096112],\n",
              "       [-0.19014822,  0.98208971, -0.82450125,  1.00905426, -1.03663424]])"
            ]
          },
          "metadata": {
            "tags": []
          },
          "execution_count": 63
        }
      ]
    },
    {
      "cell_type": "code",
      "metadata": {
        "colab": {
          "base_uri": "https://localhost:8080/"
        },
        "id": "40xQ9riWR2kx",
        "outputId": "c3a05ef1-6ec8-49d7-e766-55dc1679c586"
      },
      "source": [
        "np.random.randn(3, 2, 4)"
      ],
      "execution_count": 64,
      "outputs": [
        {
          "output_type": "execute_result",
          "data": {
            "text/plain": [
              "array([[[-1.99496543e-01,  7.91196630e-01, -4.61218846e-01,\n",
              "          7.69369892e-01],\n",
              "        [ 1.63787470e-01, -8.61339497e-01, -6.63124127e-01,\n",
              "         -9.79576292e-01]],\n",
              "\n",
              "       [[-1.24071175e+00, -1.32374185e+00,  2.53529834e-01,\n",
              "          7.71139977e-01],\n",
              "        [ 3.01237691e-01,  1.85284310e+00, -2.95058263e-01,\n",
              "         -1.03717322e+00]],\n",
              "\n",
              "       [[ 7.03763158e-01,  1.47558401e+00, -1.49282998e-03,\n",
              "          5.74284120e-01],\n",
              "        [-2.04894164e+00, -1.47379095e+00, -2.16539627e-01,\n",
              "          6.10060580e-01]]])"
            ]
          },
          "metadata": {
            "tags": []
          },
          "execution_count": 64
        }
      ]
    },
    {
      "cell_type": "markdown",
      "metadata": {
        "id": "hxrVBBNJR2kx"
      },
      "source": [
        "对于服从方差为 𝜎2 均值为 𝜇 的一元正态分布可以如下生成："
      ]
    },
    {
      "cell_type": "code",
      "metadata": {
        "colab": {
          "base_uri": "https://localhost:8080/"
        },
        "id": "EmwtSNjeR2kx",
        "outputId": "feafe245-2ad7-41bb-f1fd-546b8da0d206"
      },
      "source": [
        "sigma, mu = 2.5, 3\n",
        "\n",
        "mu + np.random.randn(4) * sigma  "
      ],
      "execution_count": 65,
      "outputs": [
        {
          "output_type": "execute_result",
          "data": {
            "text/plain": [
              "array([4.19733941, 0.92158694, 4.92152691, 3.94625561])"
            ]
          },
          "metadata": {
            "tags": []
          },
          "execution_count": 65
        }
      ]
    },
    {
      "cell_type": "markdown",
      "metadata": {
        "id": "n5zU1gFtR2kx"
      },
      "source": [
        "randint 可以指定生成随机整数的最小值最大值（不包含）和维度大小："
      ]
    },
    {
      "cell_type": "code",
      "metadata": {
        "colab": {
          "base_uri": "https://localhost:8080/"
        },
        "id": "bxjtvIisR2ky",
        "outputId": "8d63754e-e3be-4e13-e269-d930ae6e1337"
      },
      "source": [
        "np.random.randint(2, 9, (3,4))"
      ],
      "execution_count": 66,
      "outputs": [
        {
          "output_type": "execute_result",
          "data": {
            "text/plain": [
              "array([[7, 4, 4, 4],\n",
              "       [6, 8, 7, 8],\n",
              "       [8, 3, 2, 3]])"
            ]
          },
          "metadata": {
            "tags": []
          },
          "execution_count": 66
        }
      ]
    },
    {
      "cell_type": "markdown",
      "metadata": {
        "id": "kshOs1n6R2ky"
      },
      "source": [
        "choice 可以从给定的列表中，以一定概率和方式抽取结果，当不指定概率时为均匀采样，默认抽取方式为有放回抽样："
      ]
    },
    {
      "cell_type": "code",
      "metadata": {
        "id": "xr_UxjdxR2ky"
      },
      "source": [
        "list = ['a', 'b', 'c', 'd']"
      ],
      "execution_count": 67,
      "outputs": []
    },
    {
      "cell_type": "code",
      "metadata": {
        "colab": {
          "base_uri": "https://localhost:8080/"
        },
        "id": "Ue-6sPNKR2ky",
        "outputId": "2f95e4f9-d83e-498c-8075-87a2cdee04b3"
      },
      "source": [
        "np.random.choice(list, 2, replace = True)"
      ],
      "execution_count": 68,
      "outputs": [
        {
          "output_type": "execute_result",
          "data": {
            "text/plain": [
              "array(['a', 'a'], dtype='<U1')"
            ]
          },
          "metadata": {
            "tags": []
          },
          "execution_count": 68
        }
      ]
    },
    {
      "cell_type": "code",
      "metadata": {
        "colab": {
          "base_uri": "https://localhost:8080/"
        },
        "id": "UY1r9fA1R2ky",
        "outputId": "b3db3162-a882-4c18-e0cc-8f3a28b607e6"
      },
      "source": [
        "np.random.choice(list, 2, replace = False)"
      ],
      "execution_count": 69,
      "outputs": [
        {
          "output_type": "execute_result",
          "data": {
            "text/plain": [
              "array(['d', 'c'], dtype='<U1')"
            ]
          },
          "metadata": {
            "tags": []
          },
          "execution_count": 69
        }
      ]
    },
    {
      "cell_type": "code",
      "metadata": {
        "colab": {
          "base_uri": "https://localhost:8080/"
        },
        "id": "xOjZtDxkR2ky",
        "outputId": "3ad5d169-917b-4a81-f8cb-0fffd0310d72"
      },
      "source": [
        "np.random.choice(list, (2,2))"
      ],
      "execution_count": 70,
      "outputs": [
        {
          "output_type": "execute_result",
          "data": {
            "text/plain": [
              "array([['c', 'b'],\n",
              "       ['b', 'c']], dtype='<U1')"
            ]
          },
          "metadata": {
            "tags": []
          },
          "execution_count": 70
        }
      ]
    },
    {
      "cell_type": "markdown",
      "metadata": {
        "id": "YSqkAu4_R2kz"
      },
      "source": [
        "当返回的元素个数与原列表相同时，等价于使用 permutation 函数，即打散原列表："
      ]
    },
    {
      "cell_type": "code",
      "metadata": {
        "colab": {
          "base_uri": "https://localhost:8080/"
        },
        "id": "6Fr50XgZR2kz",
        "outputId": "a7a0fdb3-e132-4a53-b078-4bbbb7fa8b18"
      },
      "source": [
        "np.random.choice(list, 4)"
      ],
      "execution_count": 71,
      "outputs": [
        {
          "output_type": "execute_result",
          "data": {
            "text/plain": [
              "array(['d', 'c', 'a', 'b'], dtype='<U1')"
            ]
          },
          "metadata": {
            "tags": []
          },
          "execution_count": 71
        }
      ]
    },
    {
      "cell_type": "code",
      "metadata": {
        "colab": {
          "base_uri": "https://localhost:8080/"
        },
        "id": "ouRbJj8VR2kz",
        "outputId": "4dfee1a6-2bb2-4e1b-c0e5-87b0e26eb109"
      },
      "source": [
        "np.random.choice(list, 4, replace = False)"
      ],
      "execution_count": 72,
      "outputs": [
        {
          "output_type": "execute_result",
          "data": {
            "text/plain": [
              "array(['c', 'a', 'b', 'd'], dtype='<U1')"
            ]
          },
          "metadata": {
            "tags": []
          },
          "execution_count": 72
        }
      ]
    },
    {
      "cell_type": "markdown",
      "metadata": {
        "id": "cWIk-ujYR2kz"
      },
      "source": [
        "最后，需要提到的是随机种子，它能够固定随机数的输出结果："
      ]
    },
    {
      "cell_type": "code",
      "metadata": {
        "colab": {
          "base_uri": "https://localhost:8080/"
        },
        "id": "FIBJA9kJR2kz",
        "outputId": "4a7b72f7-69cf-4ed1-8f81-2509a4cbcf4e"
      },
      "source": [
        "np.random.seed(0)\n",
        "np.random.rand()"
      ],
      "execution_count": 73,
      "outputs": [
        {
          "output_type": "execute_result",
          "data": {
            "text/plain": [
              "0.5488135039273248"
            ]
          },
          "metadata": {
            "tags": []
          },
          "execution_count": 73
        }
      ]
    },
    {
      "cell_type": "code",
      "metadata": {
        "colab": {
          "base_uri": "https://localhost:8080/"
        },
        "id": "KxNOXznxR2kz",
        "outputId": "4e8c1a3a-34fc-45a1-d3ff-2d87e68c1df4"
      },
      "source": [
        "np.random.seed(1)\n",
        "np.random.rand()"
      ],
      "execution_count": 74,
      "outputs": [
        {
          "output_type": "execute_result",
          "data": {
            "text/plain": [
              "0.417022004702574"
            ]
          },
          "metadata": {
            "tags": []
          },
          "execution_count": 74
        }
      ]
    },
    {
      "cell_type": "markdown",
      "metadata": {
        "id": "NjTQzsyeR2k0"
      },
      "source": [
        "# 2. np数组的变形与合并"
      ]
    },
    {
      "cell_type": "markdown",
      "metadata": {
        "id": "XpH1UZPmR2k0"
      },
      "source": [
        "【a】转置： T"
      ]
    },
    {
      "cell_type": "code",
      "metadata": {
        "colab": {
          "base_uri": "https://localhost:8080/"
        },
        "id": "wfhJKTxBR2k0",
        "outputId": "4cc0fe9b-ce56-45dd-a72c-ad29b54c97a1"
      },
      "source": [
        "np.array([[1,2],[3,4],[5,6]]).T #2*3"
      ],
      "execution_count": 75,
      "outputs": [
        {
          "output_type": "execute_result",
          "data": {
            "text/plain": [
              "array([[1, 3, 5],\n",
              "       [2, 4, 6]])"
            ]
          },
          "metadata": {
            "tags": []
          },
          "execution_count": 75
        }
      ]
    },
    {
      "cell_type": "code",
      "metadata": {
        "colab": {
          "base_uri": "https://localhost:8080/"
        },
        "id": "0FeXGd0lR2k0",
        "outputId": "c86974b0-2170-44b5-ab8c-fec8b15aa107"
      },
      "source": [
        "np.array([[1,2],[3,4],[5,6]]) #3*2"
      ],
      "execution_count": 76,
      "outputs": [
        {
          "output_type": "execute_result",
          "data": {
            "text/plain": [
              "array([[1, 2],\n",
              "       [3, 4],\n",
              "       [5, 6]])"
            ]
          },
          "metadata": {
            "tags": []
          },
          "execution_count": 76
        }
      ]
    },
    {
      "cell_type": "markdown",
      "metadata": {
        "id": "FKrCjR2zR2k0"
      },
      "source": [
        "【b】合并操作： r_, c_"
      ]
    },
    {
      "cell_type": "markdown",
      "metadata": {
        "id": "N6doX76mR2k1"
      },
      "source": [
        "对于二维数组而言， r_ 和 c_ 分别表示上下合并和左右合并："
      ]
    },
    {
      "cell_type": "code",
      "metadata": {
        "colab": {
          "base_uri": "https://localhost:8080/"
        },
        "id": "Q0-RaZpZR2k1",
        "outputId": "01be5207-ed90-4bb1-8faa-e9904a2e569c"
      },
      "source": [
        "np.r_[np.ones((2,3)), np.ones((1,3))]"
      ],
      "execution_count": 77,
      "outputs": [
        {
          "output_type": "execute_result",
          "data": {
            "text/plain": [
              "array([[1., 1., 1.],\n",
              "       [1., 1., 1.],\n",
              "       [1., 1., 1.]])"
            ]
          },
          "metadata": {
            "tags": []
          },
          "execution_count": 77
        }
      ]
    },
    {
      "cell_type": "code",
      "metadata": {
        "colab": {
          "base_uri": "https://localhost:8080/"
        },
        "id": "z-hjCwOGR2k1",
        "outputId": "072bf842-116d-4624-91e5-aa42cbf782eb"
      },
      "source": [
        "np.r_[np.ones((2,3)), np.array([[1, 2, 3]])]"
      ],
      "execution_count": 78,
      "outputs": [
        {
          "output_type": "execute_result",
          "data": {
            "text/plain": [
              "array([[1., 1., 1.],\n",
              "       [1., 1., 1.],\n",
              "       [1., 2., 3.]])"
            ]
          },
          "metadata": {
            "tags": []
          },
          "execution_count": 78
        }
      ]
    },
    {
      "cell_type": "code",
      "metadata": {
        "colab": {
          "base_uri": "https://localhost:8080/"
        },
        "id": "6UDwuXkxR2k1",
        "outputId": "71c65736-bf1d-41a0-f8cc-c9b0e337d6c2"
      },
      "source": [
        "np.c_[np.ones((2,3)), np.ones((2, 4))]"
      ],
      "execution_count": 79,
      "outputs": [
        {
          "output_type": "execute_result",
          "data": {
            "text/plain": [
              "array([[1., 1., 1., 1., 1., 1., 1.],\n",
              "       [1., 1., 1., 1., 1., 1., 1.]])"
            ]
          },
          "metadata": {
            "tags": []
          },
          "execution_count": 79
        }
      ]
    },
    {
      "cell_type": "code",
      "metadata": {
        "colab": {
          "base_uri": "https://localhost:8080/"
        },
        "id": "5X7FTKqIR2k1",
        "outputId": "350ad4f9-ee61-455b-a458-9863826cb1bd"
      },
      "source": [
        "np.c_[np.ones((2,3)), np.array([[1,2], [2,3]])]"
      ],
      "execution_count": 80,
      "outputs": [
        {
          "output_type": "execute_result",
          "data": {
            "text/plain": [
              "array([[1., 1., 1., 1., 2.],\n",
              "       [1., 1., 1., 2., 3.]])"
            ]
          },
          "metadata": {
            "tags": []
          },
          "execution_count": 80
        }
      ]
    },
    {
      "cell_type": "markdown",
      "metadata": {
        "id": "xP0waeG1R2k2"
      },
      "source": [
        "一维数组和二维数组进行合并时，应当把其视作列向量，在长度匹配的情况下只能够使用左右合并的 c_ 操作："
      ]
    },
    {
      "cell_type": "code",
      "metadata": {
        "id": "LL-PEt83R2k2"
      },
      "source": [
        "try:\n",
        "    np.r_[np.array([0,0]),np.zeros((2,1))]\n",
        "except Exception as e:\n",
        "    Err_Msg = e"
      ],
      "execution_count": 81,
      "outputs": []
    },
    {
      "cell_type": "code",
      "metadata": {
        "colab": {
          "base_uri": "https://localhost:8080/"
        },
        "id": "RSpa-Hx0R2k2",
        "outputId": "de10aa2d-c2be-403c-8389-ce1c9e6be5f6"
      },
      "source": [
        "Err_Msg"
      ],
      "execution_count": 82,
      "outputs": [
        {
          "output_type": "execute_result",
          "data": {
            "text/plain": [
              "ValueError('all the input arrays must have same number of dimensions, but the array at index 0 has 1 dimension(s) and the array at index 1 has 2 dimension(s)')"
            ]
          },
          "metadata": {
            "tags": []
          },
          "execution_count": 82
        }
      ]
    },
    {
      "cell_type": "code",
      "metadata": {
        "colab": {
          "base_uri": "https://localhost:8080/"
        },
        "id": "miGCmRVIR2k2",
        "outputId": "1786b94b-2597-450d-e739-82ab5f522176"
      },
      "source": [
        "np.r_[np.array([0,0]),np.zeros(2)]"
      ],
      "execution_count": 83,
      "outputs": [
        {
          "output_type": "execute_result",
          "data": {
            "text/plain": [
              "array([0., 0., 0., 0.])"
            ]
          },
          "metadata": {
            "tags": []
          },
          "execution_count": 83
        }
      ]
    },
    {
      "cell_type": "code",
      "metadata": {
        "colab": {
          "base_uri": "https://localhost:8080/"
        },
        "id": "jV01s49lR2k2",
        "outputId": "faf776b7-7042-4e49-82c4-37ce37fcb5f0"
      },
      "source": [
        "np.r_[np.array([[0]]),np.zeros((2,1))]"
      ],
      "execution_count": 84,
      "outputs": [
        {
          "output_type": "execute_result",
          "data": {
            "text/plain": [
              "array([[0.],\n",
              "       [0.],\n",
              "       [0.]])"
            ]
          },
          "metadata": {
            "tags": []
          },
          "execution_count": 84
        }
      ]
    },
    {
      "cell_type": "code",
      "metadata": {
        "colab": {
          "base_uri": "https://localhost:8080/"
        },
        "id": "fOfLcqZ8R2k2",
        "outputId": "7600b833-d1a1-40d8-b135-b5722f784900"
      },
      "source": [
        "np.zeros(2)"
      ],
      "execution_count": 85,
      "outputs": [
        {
          "output_type": "execute_result",
          "data": {
            "text/plain": [
              "array([0., 0.])"
            ]
          },
          "metadata": {
            "tags": []
          },
          "execution_count": 85
        }
      ]
    },
    {
      "cell_type": "code",
      "metadata": {
        "colab": {
          "base_uri": "https://localhost:8080/"
        },
        "id": "gyXdP3JdR2k3",
        "outputId": "e0630711-8525-4d65-dfee-3d46f5b7397e"
      },
      "source": [
        "np.zeros((2,1))"
      ],
      "execution_count": 86,
      "outputs": [
        {
          "output_type": "execute_result",
          "data": {
            "text/plain": [
              "array([[0.],\n",
              "       [0.]])"
            ]
          },
          "metadata": {
            "tags": []
          },
          "execution_count": 86
        }
      ]
    },
    {
      "cell_type": "code",
      "metadata": {
        "colab": {
          "base_uri": "https://localhost:8080/"
        },
        "id": "IiuYm1o3R2k3",
        "outputId": "efce0281-8c8b-4d9c-95b5-5a2c598d3f40"
      },
      "source": [
        "np.array([0,0])"
      ],
      "execution_count": 87,
      "outputs": [
        {
          "output_type": "execute_result",
          "data": {
            "text/plain": [
              "array([0, 0])"
            ]
          },
          "metadata": {
            "tags": []
          },
          "execution_count": 87
        }
      ]
    },
    {
      "cell_type": "code",
      "metadata": {
        "colab": {
          "base_uri": "https://localhost:8080/"
        },
        "id": "DUNHKf38R2k3",
        "outputId": "a33c3d61-f7b9-4c0a-d7e2-60fbcc80acae"
      },
      "source": [
        "np.c_[np.array([0,0]),np.zeros((2,3))]"
      ],
      "execution_count": 88,
      "outputs": [
        {
          "output_type": "execute_result",
          "data": {
            "text/plain": [
              "array([[0., 0., 0., 0.],\n",
              "       [0., 0., 0., 0.]])"
            ]
          },
          "metadata": {
            "tags": []
          },
          "execution_count": 88
        }
      ]
    },
    {
      "cell_type": "code",
      "metadata": {
        "colab": {
          "base_uri": "https://localhost:8080/"
        },
        "id": "PLaVdJ_4R2k3",
        "outputId": "58d5f245-e017-4c4e-a40f-4bea6c716586"
      },
      "source": [
        "np.r_[np.array([[0,0,0]]),np.zeros((2,3))]"
      ],
      "execution_count": 89,
      "outputs": [
        {
          "output_type": "execute_result",
          "data": {
            "text/plain": [
              "array([[0., 0., 0.],\n",
              "       [0., 0., 0.],\n",
              "       [0., 0., 0.]])"
            ]
          },
          "metadata": {
            "tags": []
          },
          "execution_count": 89
        }
      ]
    },
    {
      "cell_type": "markdown",
      "metadata": {
        "id": "G-bWHXlnR2k3"
      },
      "source": [
        "【c】维度变换： reshape"
      ]
    },
    {
      "cell_type": "markdown",
      "metadata": {
        "id": "csKfpaQ-R2k3"
      },
      "source": [
        "reshape 能够帮助用户把原数组按照新的维度重新排列。在使用时有两种模式，分别为 C 模式和 F 模式，分别以逐行和逐列的顺序进行填充读取。"
      ]
    },
    {
      "cell_type": "code",
      "metadata": {
        "colab": {
          "base_uri": "https://localhost:8080/"
        },
        "id": "51kXLyeAR2k4",
        "outputId": "8837275c-6928-447f-f9e2-5c329cbf9858"
      },
      "source": [
        "np.arange(8)"
      ],
      "execution_count": 90,
      "outputs": [
        {
          "output_type": "execute_result",
          "data": {
            "text/plain": [
              "array([0, 1, 2, 3, 4, 5, 6, 7])"
            ]
          },
          "metadata": {
            "tags": []
          },
          "execution_count": 90
        }
      ]
    },
    {
      "cell_type": "code",
      "metadata": {
        "colab": {
          "base_uri": "https://localhost:8080/"
        },
        "id": "UypJ--I8R2k4",
        "outputId": "1ed16f77-49dc-4c8f-d91b-b696159763f7"
      },
      "source": [
        "target = np.arange(8).reshape(2,4)\n",
        "target"
      ],
      "execution_count": 91,
      "outputs": [
        {
          "output_type": "execute_result",
          "data": {
            "text/plain": [
              "array([[0, 1, 2, 3],\n",
              "       [4, 5, 6, 7]])"
            ]
          },
          "metadata": {
            "tags": []
          },
          "execution_count": 91
        }
      ]
    },
    {
      "cell_type": "code",
      "metadata": {
        "colab": {
          "base_uri": "https://localhost:8080/"
        },
        "id": "oapXTF8OR2k4",
        "outputId": "5ff16faf-16c2-4369-e3c8-3138e7003f47"
      },
      "source": [
        "np.arange(8).reshape(4,2)"
      ],
      "execution_count": 92,
      "outputs": [
        {
          "output_type": "execute_result",
          "data": {
            "text/plain": [
              "array([[0, 1],\n",
              "       [2, 3],\n",
              "       [4, 5],\n",
              "       [6, 7]])"
            ]
          },
          "metadata": {
            "tags": []
          },
          "execution_count": 92
        }
      ]
    },
    {
      "cell_type": "code",
      "metadata": {
        "colab": {
          "base_uri": "https://localhost:8080/"
        },
        "id": "5KDN4k4MR2k4",
        "outputId": "47f258c9-9f57-4972-9625-6ce64faa80b9"
      },
      "source": [
        "target.reshape((4,2), order = 'C') # 按照行读取和填充"
      ],
      "execution_count": 93,
      "outputs": [
        {
          "output_type": "execute_result",
          "data": {
            "text/plain": [
              "array([[0, 1],\n",
              "       [2, 3],\n",
              "       [4, 5],\n",
              "       [6, 7]])"
            ]
          },
          "metadata": {
            "tags": []
          },
          "execution_count": 93
        }
      ]
    },
    {
      "cell_type": "code",
      "metadata": {
        "colab": {
          "base_uri": "https://localhost:8080/"
        },
        "id": "JVwLnB78R2k4",
        "outputId": "677d069f-002d-4848-a408-c041353e7be6"
      },
      "source": [
        "target.reshape((4,2), order = 'F') # 按照列读取和填充"
      ],
      "execution_count": 94,
      "outputs": [
        {
          "output_type": "execute_result",
          "data": {
            "text/plain": [
              "array([[0, 2],\n",
              "       [4, 6],\n",
              "       [1, 3],\n",
              "       [5, 7]])"
            ]
          },
          "metadata": {
            "tags": []
          },
          "execution_count": 94
        }
      ]
    },
    {
      "cell_type": "markdown",
      "metadata": {
        "id": "ip4A0f1tR2k5"
      },
      "source": [
        "特别地，由于被调用数组的大小是确定的， reshape 允许有一个维度存在空缺，此时只需填充-1即可："
      ]
    },
    {
      "cell_type": "code",
      "metadata": {
        "colab": {
          "base_uri": "https://localhost:8080/"
        },
        "id": "k3h1y6JER2k5",
        "outputId": "451787d6-f01d-49ce-dcd5-f1f7f041bafe"
      },
      "source": [
        "target.reshape(4,-1)"
      ],
      "execution_count": 95,
      "outputs": [
        {
          "output_type": "execute_result",
          "data": {
            "text/plain": [
              "array([[0, 1],\n",
              "       [2, 3],\n",
              "       [4, 5],\n",
              "       [6, 7]])"
            ]
          },
          "metadata": {
            "tags": []
          },
          "execution_count": 95
        }
      ]
    },
    {
      "cell_type": "markdown",
      "metadata": {
        "id": "Bs2lFumnR2k5"
      },
      "source": [
        "下面将 n*1 大小的数组转为1维数组的操作是经常使用的："
      ]
    },
    {
      "cell_type": "code",
      "metadata": {
        "colab": {
          "base_uri": "https://localhost:8080/"
        },
        "id": "h93mUv2bR2k5",
        "outputId": "df830975-902d-4d09-871b-ad07b3bc9e77"
      },
      "source": [
        "target = np.ones((3,1))\n",
        "target"
      ],
      "execution_count": 96,
      "outputs": [
        {
          "output_type": "execute_result",
          "data": {
            "text/plain": [
              "array([[1.],\n",
              "       [1.],\n",
              "       [1.]])"
            ]
          },
          "metadata": {
            "tags": []
          },
          "execution_count": 96
        }
      ]
    },
    {
      "cell_type": "code",
      "metadata": {
        "colab": {
          "base_uri": "https://localhost:8080/"
        },
        "id": "fje9r4ZsR2k5",
        "outputId": "427c8b4f-e672-49ac-fc58-3c08a6c1dbb4"
      },
      "source": [
        "a = target.reshape(-1)\n",
        "a"
      ],
      "execution_count": 97,
      "outputs": [
        {
          "output_type": "execute_result",
          "data": {
            "text/plain": [
              "array([1., 1., 1.])"
            ]
          },
          "metadata": {
            "tags": []
          },
          "execution_count": 97
        }
      ]
    },
    {
      "cell_type": "code",
      "metadata": {
        "colab": {
          "base_uri": "https://localhost:8080/"
        },
        "id": "UOEM4t4OR2k6",
        "outputId": "8b6a3539-263a-4b1a-8ef5-7aefbf7c7050"
      },
      "source": [
        "a.reshape(-1)"
      ],
      "execution_count": 98,
      "outputs": [
        {
          "output_type": "execute_result",
          "data": {
            "text/plain": [
              "array([1., 1., 1.])"
            ]
          },
          "metadata": {
            "tags": []
          },
          "execution_count": 98
        }
      ]
    },
    {
      "cell_type": "markdown",
      "metadata": {
        "id": "Pn1mnxDuR2k6"
      },
      "source": [
        "# 3. np数组的切片与索引"
      ]
    },
    {
      "cell_type": "markdown",
      "metadata": {
        "id": "-mpejPaJR2k6"
      },
      "source": [
        "数组的切片模式支持使用 slice 类型的 start:end:step 切片，还可以直接传入列表指定某个维度的索引进行切片："
      ]
    },
    {
      "cell_type": "code",
      "metadata": {
        "colab": {
          "base_uri": "https://localhost:8080/"
        },
        "id": "GSLDD8NpR2k6",
        "outputId": "7e50dd53-57d2-4a17-c264-6f88c3105cb5"
      },
      "source": [
        "target = np.arange(9).reshape(3,3)\n",
        "target"
      ],
      "execution_count": 99,
      "outputs": [
        {
          "output_type": "execute_result",
          "data": {
            "text/plain": [
              "array([[0, 1, 2],\n",
              "       [3, 4, 5],\n",
              "       [6, 7, 8]])"
            ]
          },
          "metadata": {
            "tags": []
          },
          "execution_count": 99
        }
      ]
    },
    {
      "cell_type": "code",
      "metadata": {
        "colab": {
          "base_uri": "https://localhost:8080/"
        },
        "id": "zeFApzslR2k6",
        "outputId": "ae30ddac-9a97-4ebd-e882-3f3150f0c211"
      },
      "source": [
        "target[:-1, [0,2]]"
      ],
      "execution_count": 100,
      "outputs": [
        {
          "output_type": "execute_result",
          "data": {
            "text/plain": [
              "array([[0, 2],\n",
              "       [3, 5]])"
            ]
          },
          "metadata": {
            "tags": []
          },
          "execution_count": 100
        }
      ]
    },
    {
      "cell_type": "code",
      "metadata": {
        "colab": {
          "base_uri": "https://localhost:8080/"
        },
        "id": "o1pzBXceR2k6",
        "outputId": "da22b57c-0460-43ed-8232-7cef6489da59"
      },
      "source": [
        "target[1:, [0,1]]"
      ],
      "execution_count": 101,
      "outputs": [
        {
          "output_type": "execute_result",
          "data": {
            "text/plain": [
              "array([[3, 4],\n",
              "       [6, 7]])"
            ]
          },
          "metadata": {
            "tags": []
          },
          "execution_count": 101
        }
      ]
    },
    {
      "cell_type": "code",
      "metadata": {
        "colab": {
          "base_uri": "https://localhost:8080/"
        },
        "id": "iQAPjMOCR2k6",
        "outputId": "8b918190-2570-483d-eb98-2525c972dee9"
      },
      "source": [
        "target[:, [0,1]]"
      ],
      "execution_count": 102,
      "outputs": [
        {
          "output_type": "execute_result",
          "data": {
            "text/plain": [
              "array([[0, 1],\n",
              "       [3, 4],\n",
              "       [6, 7]])"
            ]
          },
          "metadata": {
            "tags": []
          },
          "execution_count": 102
        }
      ]
    },
    {
      "cell_type": "code",
      "metadata": {
        "colab": {
          "base_uri": "https://localhost:8080/"
        },
        "id": "QViUdTKaR2k7",
        "outputId": "30690db8-b167-4886-e5ce-d353c3181982"
      },
      "source": [
        "target[:-1, [0,1]]"
      ],
      "execution_count": 103,
      "outputs": [
        {
          "output_type": "execute_result",
          "data": {
            "text/plain": [
              "array([[0, 1],\n",
              "       [3, 4]])"
            ]
          },
          "metadata": {
            "tags": []
          },
          "execution_count": 103
        }
      ]
    },
    {
      "cell_type": "markdown",
      "metadata": {
        "id": "pWWcdqWTR2k7"
      },
      "source": [
        "此外，还可以利用 np.ix_ 在对应的维度上使用布尔索引，但此时不能使用 slice 切片："
      ]
    },
    {
      "cell_type": "code",
      "metadata": {
        "colab": {
          "base_uri": "https://localhost:8080/"
        },
        "id": "fbdLdJacR2k7",
        "outputId": "9dfba60e-206a-431e-9c68-5a82d0b6f4f0"
      },
      "source": [
        "target[np.ix_([True, False, True], [True, False, True])]"
      ],
      "execution_count": 104,
      "outputs": [
        {
          "output_type": "execute_result",
          "data": {
            "text/plain": [
              "array([[0, 2],\n",
              "       [6, 8]])"
            ]
          },
          "metadata": {
            "tags": []
          },
          "execution_count": 104
        }
      ]
    },
    {
      "cell_type": "code",
      "metadata": {
        "colab": {
          "base_uri": "https://localhost:8080/"
        },
        "id": "3C8ucTu4R2k7",
        "outputId": "b7661d92-2994-4ca3-d66a-7b0758c69805"
      },
      "source": [
        "target[np.ix_([1,2], [True, False, True])]"
      ],
      "execution_count": 105,
      "outputs": [
        {
          "output_type": "execute_result",
          "data": {
            "text/plain": [
              "array([[3, 5],\n",
              "       [6, 8]])"
            ]
          },
          "metadata": {
            "tags": []
          },
          "execution_count": 105
        }
      ]
    },
    {
      "cell_type": "markdown",
      "metadata": {
        "id": "8x13uv8lR2k7"
      },
      "source": [
        "当数组维度为1维时，可以直接进行布尔索引，而无需 np.ix_ ："
      ]
    },
    {
      "cell_type": "code",
      "metadata": {
        "colab": {
          "base_uri": "https://localhost:8080/"
        },
        "id": "8Sr4Tb1TR2k7",
        "outputId": "54378673-afd9-4667-e4c1-fefd4b369ae6"
      },
      "source": [
        "new = target.reshape(-1)\n",
        "new"
      ],
      "execution_count": 106,
      "outputs": [
        {
          "output_type": "execute_result",
          "data": {
            "text/plain": [
              "array([0, 1, 2, 3, 4, 5, 6, 7, 8])"
            ]
          },
          "metadata": {
            "tags": []
          },
          "execution_count": 106
        }
      ]
    },
    {
      "cell_type": "code",
      "metadata": {
        "colab": {
          "base_uri": "https://localhost:8080/"
        },
        "id": "y97DEFfQR2k8",
        "outputId": "c9d140e3-cc36-4010-9fef-831668c7dff6"
      },
      "source": [
        "new[new%2==0]"
      ],
      "execution_count": 107,
      "outputs": [
        {
          "output_type": "execute_result",
          "data": {
            "text/plain": [
              "array([0, 2, 4, 6, 8])"
            ]
          },
          "metadata": {
            "tags": []
          },
          "execution_count": 107
        }
      ]
    },
    {
      "cell_type": "code",
      "metadata": {
        "colab": {
          "base_uri": "https://localhost:8080/"
        },
        "id": "RdbRpjp0R2k8",
        "outputId": "4b2f7758-f7f6-4f44-abc3-4f2d5900ceb5"
      },
      "source": [
        "new[new%2!=0]"
      ],
      "execution_count": 108,
      "outputs": [
        {
          "output_type": "execute_result",
          "data": {
            "text/plain": [
              "array([1, 3, 5, 7])"
            ]
          },
          "metadata": {
            "tags": []
          },
          "execution_count": 108
        }
      ]
    },
    {
      "cell_type": "markdown",
      "metadata": {
        "id": "LXKkTUdUR2k8"
      },
      "source": [
        "# 4. 常用函数"
      ]
    },
    {
      "cell_type": "markdown",
      "metadata": {
        "id": "u-KEzJYDR2k8"
      },
      "source": [
        "【a】 where"
      ]
    },
    {
      "cell_type": "markdown",
      "metadata": {
        "id": "QMMG0AyUR2k8"
      },
      "source": [
        "where 是一种条件函数，可以指定满足条件与不满足条件位置对应的填充值："
      ]
    },
    {
      "cell_type": "code",
      "metadata": {
        "id": "jzgtWAmwR2k8"
      },
      "source": [
        "a = np.array([-1,1,-1,0])"
      ],
      "execution_count": 109,
      "outputs": []
    },
    {
      "cell_type": "code",
      "metadata": {
        "colab": {
          "base_uri": "https://localhost:8080/"
        },
        "id": "ipTZVU07R2k9",
        "outputId": "94e630ca-13e9-42f7-eea1-a963ae1f8e48"
      },
      "source": [
        "np.where(a>0, a, 5)"
      ],
      "execution_count": 110,
      "outputs": [
        {
          "output_type": "execute_result",
          "data": {
            "text/plain": [
              "array([5, 1, 5, 5])"
            ]
          },
          "metadata": {
            "tags": []
          },
          "execution_count": 110
        }
      ]
    },
    {
      "cell_type": "markdown",
      "metadata": {
        "id": "0KuYSZPQR2k9"
      },
      "source": [
        "【b】 nonzero, argmax, argmin"
      ]
    },
    {
      "cell_type": "markdown",
      "metadata": {
        "id": "-QuPWCY0R2k9"
      },
      "source": [
        "**这三个函数返回的都是索引**， nonzero 返回非零数的索引， argmax, argmin 分别返回最大和最小数的索引："
      ]
    },
    {
      "cell_type": "code",
      "metadata": {
        "id": "UzPvv5zMR2k9"
      },
      "source": [
        "a = np.array([-2,-5,0,1,3,-1])"
      ],
      "execution_count": 111,
      "outputs": []
    },
    {
      "cell_type": "code",
      "metadata": {
        "colab": {
          "base_uri": "https://localhost:8080/"
        },
        "id": "3QXsEyqkR2k9",
        "outputId": "1c478b91-3b03-4205-b36d-ffcabf7dfd09"
      },
      "source": [
        "np.nonzero(a)"
      ],
      "execution_count": 112,
      "outputs": [
        {
          "output_type": "execute_result",
          "data": {
            "text/plain": [
              "(array([0, 1, 3, 4, 5]),)"
            ]
          },
          "metadata": {
            "tags": []
          },
          "execution_count": 112
        }
      ]
    },
    {
      "cell_type": "code",
      "metadata": {
        "colab": {
          "base_uri": "https://localhost:8080/"
        },
        "id": "TaY6vqmmR2k9",
        "outputId": "05c0911f-3ffb-4e1c-ea13-0c9d22fc40ec"
      },
      "source": [
        "a.argmax()"
      ],
      "execution_count": 113,
      "outputs": [
        {
          "output_type": "execute_result",
          "data": {
            "text/plain": [
              "4"
            ]
          },
          "metadata": {
            "tags": []
          },
          "execution_count": 113
        }
      ]
    },
    {
      "cell_type": "code",
      "metadata": {
        "colab": {
          "base_uri": "https://localhost:8080/"
        },
        "id": "j-rSTzjZR2k-",
        "outputId": "d73164fc-be49-4be1-fb12-f0d87da57322"
      },
      "source": [
        "a.argmin()"
      ],
      "execution_count": 114,
      "outputs": [
        {
          "output_type": "execute_result",
          "data": {
            "text/plain": [
              "1"
            ]
          },
          "metadata": {
            "tags": []
          },
          "execution_count": 114
        }
      ]
    },
    {
      "cell_type": "markdown",
      "metadata": {
        "id": "c_Qo-37AR2k-"
      },
      "source": [
        "【c】 any, all"
      ]
    },
    {
      "cell_type": "markdown",
      "metadata": {
        "id": "30tGiJNSR2k-"
      },
      "source": [
        "any 指当序列至少 存在一个 True 或非零元素时返回 True ，否则返回 False\n",
        "\n",
        "all 指当序列元素 全为 True 或非零元素时返回 True ，否则返回 False"
      ]
    },
    {
      "cell_type": "code",
      "metadata": {
        "id": "6R96o93RR2k-"
      },
      "source": [
        "a = np.array([0,1])"
      ],
      "execution_count": 115,
      "outputs": []
    },
    {
      "cell_type": "code",
      "metadata": {
        "colab": {
          "base_uri": "https://localhost:8080/"
        },
        "id": "lvaRs6V2R2k-",
        "outputId": "1808c45b-56b5-4c36-aa19-8a7f702e2ea6"
      },
      "source": [
        "a.any()"
      ],
      "execution_count": 116,
      "outputs": [
        {
          "output_type": "execute_result",
          "data": {
            "text/plain": [
              "True"
            ]
          },
          "metadata": {
            "tags": []
          },
          "execution_count": 116
        }
      ]
    },
    {
      "cell_type": "code",
      "metadata": {
        "colab": {
          "base_uri": "https://localhost:8080/"
        },
        "id": "LT77IhLcR2k-",
        "outputId": "aab8a1b7-ff94-49f2-9161-60aee5113ba5"
      },
      "source": [
        "a.all()"
      ],
      "execution_count": 117,
      "outputs": [
        {
          "output_type": "execute_result",
          "data": {
            "text/plain": [
              "False"
            ]
          },
          "metadata": {
            "tags": []
          },
          "execution_count": 117
        }
      ]
    },
    {
      "cell_type": "markdown",
      "metadata": {
        "id": "wDav7_9WR2k_"
      },
      "source": [
        "【d】 cumprod, cumsum, diff"
      ]
    },
    {
      "cell_type": "markdown",
      "metadata": {
        "id": "N9rHuZhiR2k_"
      },
      "source": [
        "cumprod, cumsum 分别表示累乘和累加函数，返回同长度的数组， diff 表示和前一个元素做差，由于第一个元素为缺失值，因此在默认参数情况下，返回长度是原数组减1"
      ]
    },
    {
      "cell_type": "code",
      "metadata": {
        "id": "NSMwZ4yDR2k_"
      },
      "source": [
        "a = np.array([1,2,3])"
      ],
      "execution_count": 118,
      "outputs": []
    },
    {
      "cell_type": "code",
      "metadata": {
        "colab": {
          "base_uri": "https://localhost:8080/"
        },
        "id": "CvFfFwVER2k_",
        "outputId": "dafabec9-7c8b-4503-9f98-a969ed6611c5"
      },
      "source": [
        "a.cumprod()"
      ],
      "execution_count": 119,
      "outputs": [
        {
          "output_type": "execute_result",
          "data": {
            "text/plain": [
              "array([1, 2, 6])"
            ]
          },
          "metadata": {
            "tags": []
          },
          "execution_count": 119
        }
      ]
    },
    {
      "cell_type": "code",
      "metadata": {
        "colab": {
          "base_uri": "https://localhost:8080/"
        },
        "id": "doz0MJEHR2k_",
        "outputId": "91b6552d-1067-4d26-8a01-9cbbcfa2dac1"
      },
      "source": [
        "a.cumsum()"
      ],
      "execution_count": 120,
      "outputs": [
        {
          "output_type": "execute_result",
          "data": {
            "text/plain": [
              "array([1, 3, 6])"
            ]
          },
          "metadata": {
            "tags": []
          },
          "execution_count": 120
        }
      ]
    },
    {
      "cell_type": "code",
      "metadata": {
        "colab": {
          "base_uri": "https://localhost:8080/"
        },
        "id": "vBJUsycZR2k_",
        "outputId": "b70ffbe8-b61e-4bbd-b28c-e91dc4a0d8ee"
      },
      "source": [
        "np.diff(a)"
      ],
      "execution_count": 121,
      "outputs": [
        {
          "output_type": "execute_result",
          "data": {
            "text/plain": [
              "array([1, 1])"
            ]
          },
          "metadata": {
            "tags": []
          },
          "execution_count": 121
        }
      ]
    },
    {
      "cell_type": "markdown",
      "metadata": {
        "id": "QC0zF_3rR2k_"
      },
      "source": [
        "【e】 统计函数"
      ]
    },
    {
      "cell_type": "markdown",
      "metadata": {
        "id": "Qhph3B45R2lA"
      },
      "source": [
        "常用的统计函数包括 max, min, mean, median, std, var, sum, quantile ，其中分位数计算是全局方法，因此不能通过 array.quantile 的方法调用："
      ]
    },
    {
      "cell_type": "code",
      "metadata": {
        "colab": {
          "base_uri": "https://localhost:8080/"
        },
        "id": "UNk52STnR2lA",
        "outputId": "6d77afac-ca61-455d-e2c9-035484b07351"
      },
      "source": [
        "target = np.arange(5)\n",
        "target"
      ],
      "execution_count": 122,
      "outputs": [
        {
          "output_type": "execute_result",
          "data": {
            "text/plain": [
              "array([0, 1, 2, 3, 4])"
            ]
          },
          "metadata": {
            "tags": []
          },
          "execution_count": 122
        }
      ]
    },
    {
      "cell_type": "code",
      "metadata": {
        "colab": {
          "base_uri": "https://localhost:8080/"
        },
        "id": "T_XImjM4R2lA",
        "outputId": "7881f31b-c8ff-442e-f8e7-31a75adf2cb3"
      },
      "source": [
        "target.max()"
      ],
      "execution_count": 123,
      "outputs": [
        {
          "output_type": "execute_result",
          "data": {
            "text/plain": [
              "4"
            ]
          },
          "metadata": {
            "tags": []
          },
          "execution_count": 123
        }
      ]
    },
    {
      "cell_type": "code",
      "metadata": {
        "colab": {
          "base_uri": "https://localhost:8080/"
        },
        "id": "ss8wb75cR2lA",
        "outputId": "c3d8e8ba-4d4a-4366-b4e3-a6fbcb524845"
      },
      "source": [
        "target.std()"
      ],
      "execution_count": 124,
      "outputs": [
        {
          "output_type": "execute_result",
          "data": {
            "text/plain": [
              "1.4142135623730951"
            ]
          },
          "metadata": {
            "tags": []
          },
          "execution_count": 124
        }
      ]
    },
    {
      "cell_type": "code",
      "metadata": {
        "colab": {
          "base_uri": "https://localhost:8080/"
        },
        "id": "RN6NMg-iR2lA",
        "outputId": "873c4ab4-b2ea-4797-c8fe-8f8e62ed20f9"
      },
      "source": [
        "np.quantile(target, 0.5) # 0.5分位数"
      ],
      "execution_count": 125,
      "outputs": [
        {
          "output_type": "execute_result",
          "data": {
            "text/plain": [
              "2.0"
            ]
          },
          "metadata": {
            "tags": []
          },
          "execution_count": 125
        }
      ]
    },
    {
      "cell_type": "markdown",
      "metadata": {
        "id": "4i9k5We7R2lB"
      },
      "source": [
        "但是对于含有缺失值的数组，它们返回的结果也是缺失值，如果需要略过缺失值，必须使用 nan* 类型的函数，上述的几个统计函数都有对应的 nan* 函数。"
      ]
    },
    {
      "cell_type": "code",
      "metadata": {
        "colab": {
          "base_uri": "https://localhost:8080/"
        },
        "id": "emfG8eVnR2lB",
        "outputId": "24b6e40d-1195-4c61-95cf-3398be5f8ac1"
      },
      "source": [
        "target = np.array([1, 2, np.nan])\n",
        "target"
      ],
      "execution_count": 126,
      "outputs": [
        {
          "output_type": "execute_result",
          "data": {
            "text/plain": [
              "array([ 1.,  2., nan])"
            ]
          },
          "metadata": {
            "tags": []
          },
          "execution_count": 126
        }
      ]
    },
    {
      "cell_type": "code",
      "metadata": {
        "colab": {
          "base_uri": "https://localhost:8080/"
        },
        "id": "6KE4ZL1yR2lB",
        "outputId": "c576e361-7c16-419f-9721-cbf2c5eb67a3"
      },
      "source": [
        "target.max()"
      ],
      "execution_count": 127,
      "outputs": [
        {
          "output_type": "execute_result",
          "data": {
            "text/plain": [
              "nan"
            ]
          },
          "metadata": {
            "tags": []
          },
          "execution_count": 127
        }
      ]
    },
    {
      "cell_type": "code",
      "metadata": {
        "colab": {
          "base_uri": "https://localhost:8080/"
        },
        "id": "REHNqM-dR2lB",
        "outputId": "1ee9d25a-f917-4860-d994-212c7241b9ba"
      },
      "source": [
        "np.nanmax(target)"
      ],
      "execution_count": 128,
      "outputs": [
        {
          "output_type": "execute_result",
          "data": {
            "text/plain": [
              "2.0"
            ]
          },
          "metadata": {
            "tags": []
          },
          "execution_count": 128
        }
      ]
    },
    {
      "cell_type": "code",
      "metadata": {
        "colab": {
          "base_uri": "https://localhost:8080/"
        },
        "id": "mlr25ziWR2lB",
        "outputId": "91c695ad-96f2-4504-8905-70059275d5c4"
      },
      "source": [
        "target.min()"
      ],
      "execution_count": 129,
      "outputs": [
        {
          "output_type": "execute_result",
          "data": {
            "text/plain": [
              "nan"
            ]
          },
          "metadata": {
            "tags": []
          },
          "execution_count": 129
        }
      ]
    },
    {
      "cell_type": "code",
      "metadata": {
        "colab": {
          "base_uri": "https://localhost:8080/"
        },
        "id": "hIMgmoKiR2lB",
        "outputId": "80e29915-f717-486b-d643-e49f225d4b44"
      },
      "source": [
        "np.nanmin(target)"
      ],
      "execution_count": 130,
      "outputs": [
        {
          "output_type": "execute_result",
          "data": {
            "text/plain": [
              "1.0"
            ]
          },
          "metadata": {
            "tags": []
          },
          "execution_count": 130
        }
      ]
    },
    {
      "cell_type": "code",
      "metadata": {
        "colab": {
          "base_uri": "https://localhost:8080/"
        },
        "id": "uv8hs0q8R2lC",
        "outputId": "0591cf39-d828-4d38-9f01-39275db05d43"
      },
      "source": [
        "np.nanquantile(target, 0.5)"
      ],
      "execution_count": 131,
      "outputs": [
        {
          "output_type": "execute_result",
          "data": {
            "text/plain": [
              "1.5"
            ]
          },
          "metadata": {
            "tags": []
          },
          "execution_count": 131
        }
      ]
    },
    {
      "cell_type": "code",
      "metadata": {
        "id": "I3wtNMnBR2lC"
      },
      "source": [
        "target1 = np.array([1,3,5,9])\n",
        "\n",
        "target2 = np.array([1,5,3,-9])"
      ],
      "execution_count": 132,
      "outputs": []
    },
    {
      "cell_type": "code",
      "metadata": {
        "colab": {
          "base_uri": "https://localhost:8080/"
        },
        "id": "YM4TieSqR2lC",
        "outputId": "a92b630a-bf46-4176-d4e6-00873d0594c9"
      },
      "source": [
        "np.cov(target1, target2)"
      ],
      "execution_count": 133,
      "outputs": [
        {
          "output_type": "execute_result",
          "data": {
            "text/plain": [
              "array([[ 11.66666667, -16.66666667],\n",
              "       [-16.66666667,  38.66666667]])"
            ]
          },
          "metadata": {
            "tags": []
          },
          "execution_count": 133
        }
      ]
    },
    {
      "cell_type": "code",
      "metadata": {
        "colab": {
          "base_uri": "https://localhost:8080/"
        },
        "id": "n-IbkhZZR2lC",
        "outputId": "ffdf87e5-898f-4c4b-b9e6-038891a2beb7"
      },
      "source": [
        "np.corrcoef(target1, target2)"
      ],
      "execution_count": 134,
      "outputs": [
        {
          "output_type": "execute_result",
          "data": {
            "text/plain": [
              "array([[ 1.        , -0.78470603],\n",
              "       [-0.78470603,  1.        ]])"
            ]
          },
          "metadata": {
            "tags": []
          },
          "execution_count": 134
        }
      ]
    },
    {
      "cell_type": "markdown",
      "metadata": {
        "id": "dzrLHP8-R2lC"
      },
      "source": [
        "最后，需要说明二维 Numpy 数组中统计函数的 axis 参数，它能够进行某一个维度下的统计特征计算，当 axis=0 时结果为列的统计指标，当 axis=1 时结果为行的统计指标："
      ]
    },
    {
      "cell_type": "code",
      "metadata": {
        "colab": {
          "base_uri": "https://localhost:8080/"
        },
        "id": "MEUR7OkRR2lC",
        "outputId": "b537228a-9953-49fa-8edf-92a4ed37fcb5"
      },
      "source": [
        "target = np.arange(1,10).reshape(3,-1)\n",
        "target"
      ],
      "execution_count": 135,
      "outputs": [
        {
          "output_type": "execute_result",
          "data": {
            "text/plain": [
              "array([[1, 2, 3],\n",
              "       [4, 5, 6],\n",
              "       [7, 8, 9]])"
            ]
          },
          "metadata": {
            "tags": []
          },
          "execution_count": 135
        }
      ]
    },
    {
      "cell_type": "code",
      "metadata": {
        "colab": {
          "base_uri": "https://localhost:8080/"
        },
        "id": "nBFDBWKYR2lD",
        "outputId": "4dcc6ee4-c3b3-40ac-d1c7-599c2fd3e561"
      },
      "source": [
        "target.sum()"
      ],
      "execution_count": 136,
      "outputs": [
        {
          "output_type": "execute_result",
          "data": {
            "text/plain": [
              "45"
            ]
          },
          "metadata": {
            "tags": []
          },
          "execution_count": 136
        }
      ]
    },
    {
      "cell_type": "code",
      "metadata": {
        "colab": {
          "base_uri": "https://localhost:8080/"
        },
        "id": "ktOhYUaYR2lD",
        "outputId": "6e94d326-47f4-45d1-eb48-4b4dcc36870c"
      },
      "source": [
        "target.sum(0)"
      ],
      "execution_count": 137,
      "outputs": [
        {
          "output_type": "execute_result",
          "data": {
            "text/plain": [
              "array([12, 15, 18])"
            ]
          },
          "metadata": {
            "tags": []
          },
          "execution_count": 137
        }
      ]
    },
    {
      "cell_type": "code",
      "metadata": {
        "colab": {
          "base_uri": "https://localhost:8080/"
        },
        "id": "LhJOWamwR2lD",
        "outputId": "ecde580b-c309-4107-9eac-9da926366929"
      },
      "source": [
        "target.sum(1)"
      ],
      "execution_count": 138,
      "outputs": [
        {
          "output_type": "execute_result",
          "data": {
            "text/plain": [
              "array([ 6, 15, 24])"
            ]
          },
          "metadata": {
            "tags": []
          },
          "execution_count": 138
        }
      ]
    },
    {
      "cell_type": "markdown",
      "metadata": {
        "id": "sXRKPlKNR2lD"
      },
      "source": [
        "# 5. 广播机制"
      ]
    },
    {
      "cell_type": "markdown",
      "metadata": {
        "id": "recLWx5-R2lE"
      },
      "source": [
        "广播机制用于处理两个不同维度数组之间的操作，这里只讨论不超过两维的数组广播机制。"
      ]
    },
    {
      "cell_type": "markdown",
      "metadata": {
        "id": "HjuCTipfR2lE"
      },
      "source": [
        "【a】标量和数组的操作"
      ]
    },
    {
      "cell_type": "markdown",
      "metadata": {
        "id": "vXo7_uRVR2lE"
      },
      "source": [
        "当一个标量和数组进行运算时，标量会自动把大小扩充为数组大小，之后进行逐元素操作"
      ]
    },
    {
      "cell_type": "code",
      "metadata": {
        "id": "OGpL8bCDR2lE"
      },
      "source": [
        "res = 3 * np.ones((2,2)) + 1"
      ],
      "execution_count": 139,
      "outputs": []
    },
    {
      "cell_type": "code",
      "metadata": {
        "colab": {
          "base_uri": "https://localhost:8080/"
        },
        "id": "lWkR82lzR2lE",
        "outputId": "d44cc6ff-96ec-4d7c-a1a8-6b30a0f00690"
      },
      "source": [
        "res"
      ],
      "execution_count": 140,
      "outputs": [
        {
          "output_type": "execute_result",
          "data": {
            "text/plain": [
              "array([[4., 4.],\n",
              "       [4., 4.]])"
            ]
          },
          "metadata": {
            "tags": []
          },
          "execution_count": 140
        }
      ]
    },
    {
      "cell_type": "code",
      "metadata": {
        "id": "SPnvY3LcR2lE"
      },
      "source": [
        "res = 1 / res"
      ],
      "execution_count": 141,
      "outputs": []
    },
    {
      "cell_type": "code",
      "metadata": {
        "colab": {
          "base_uri": "https://localhost:8080/"
        },
        "id": "bcEguRcTR2lF",
        "outputId": "45708cd5-76ab-47a2-de5e-421500fa98ed"
      },
      "source": [
        "res"
      ],
      "execution_count": 142,
      "outputs": [
        {
          "output_type": "execute_result",
          "data": {
            "text/plain": [
              "array([[0.25, 0.25],\n",
              "       [0.25, 0.25]])"
            ]
          },
          "metadata": {
            "tags": []
          },
          "execution_count": 142
        }
      ]
    },
    {
      "cell_type": "markdown",
      "metadata": {
        "id": "EOMI9AyQR2lF"
      },
      "source": [
        "【b】二维数组之间的操作"
      ]
    },
    {
      "cell_type": "markdown",
      "metadata": {
        "id": "WFLLuJnhR2lF"
      },
      "source": [
        "当两个数组维度完全一致时，使用对应元素的操作，否则会报错，除非其中的某个数组的维度是 𝑚×1 或者 1×𝑛 ，那么会扩充其具有 1 的维度为另一个数组对应维度的大小。例如， 1×2 数组和 3×2 数组做逐元素运算时会把第一个数组扩充为 3×2 ，扩充时的对应数值进行赋值。但是，需要注意的是，如果第一个数组的维度是 1×3 ，那么由于在第二维上的大小不匹配且不为 1 ，此时报错。"
      ]
    },
    {
      "cell_type": "code",
      "metadata": {
        "colab": {
          "base_uri": "https://localhost:8080/"
        },
        "id": "fSNNyBVhR2lF",
        "outputId": "6d29e13d-e2a9-417f-e4b2-9155509d408d"
      },
      "source": [
        "res = np.ones((3,2))\n",
        "res"
      ],
      "execution_count": 143,
      "outputs": [
        {
          "output_type": "execute_result",
          "data": {
            "text/plain": [
              "array([[1., 1.],\n",
              "       [1., 1.],\n",
              "       [1., 1.]])"
            ]
          },
          "metadata": {
            "tags": []
          },
          "execution_count": 143
        }
      ]
    },
    {
      "cell_type": "code",
      "metadata": {
        "colab": {
          "base_uri": "https://localhost:8080/"
        },
        "id": "Jp0eXxMIR2lF",
        "outputId": "57a06a18-7394-4751-92db-5543c52c5cf8"
      },
      "source": [
        "res * np.array([[2,3]]) #扩充第一维度为3"
      ],
      "execution_count": 144,
      "outputs": [
        {
          "output_type": "execute_result",
          "data": {
            "text/plain": [
              "array([[2., 3.],\n",
              "       [2., 3.],\n",
              "       [2., 3.]])"
            ]
          },
          "metadata": {
            "tags": []
          },
          "execution_count": 144
        }
      ]
    },
    {
      "cell_type": "code",
      "metadata": {
        "colab": {
          "base_uri": "https://localhost:8080/"
        },
        "id": "4f3ipMNnR2lG",
        "outputId": "4411c53b-5a66-4827-9350-eac9f698569c"
      },
      "source": [
        "np.array([[2],[3],[4]])"
      ],
      "execution_count": 145,
      "outputs": [
        {
          "output_type": "execute_result",
          "data": {
            "text/plain": [
              "array([[2],\n",
              "       [3],\n",
              "       [4]])"
            ]
          },
          "metadata": {
            "tags": []
          },
          "execution_count": 145
        }
      ]
    },
    {
      "cell_type": "code",
      "metadata": {
        "colab": {
          "base_uri": "https://localhost:8080/"
        },
        "id": "t9i--fAkR2lG",
        "outputId": "7b9c07a3-1b12-4752-9835-440ac29b5a2e"
      },
      "source": [
        "res * np.array([[2],[3],[4]]) #扩充第二维度为2"
      ],
      "execution_count": 146,
      "outputs": [
        {
          "output_type": "execute_result",
          "data": {
            "text/plain": [
              "array([[2., 2.],\n",
              "       [3., 3.],\n",
              "       [4., 4.]])"
            ]
          },
          "metadata": {
            "tags": []
          },
          "execution_count": 146
        }
      ]
    },
    {
      "cell_type": "code",
      "metadata": {
        "colab": {
          "base_uri": "https://localhost:8080/"
        },
        "id": "a6kyf1FAR2lG",
        "outputId": "a43ec177-0250-4f9e-dc48-c20548c8baab"
      },
      "source": [
        "res * np.array([[2]]) #等价于扩充两次"
      ],
      "execution_count": 147,
      "outputs": [
        {
          "output_type": "execute_result",
          "data": {
            "text/plain": [
              "array([[2., 2.],\n",
              "       [2., 2.],\n",
              "       [2., 2.]])"
            ]
          },
          "metadata": {
            "tags": []
          },
          "execution_count": 147
        }
      ]
    },
    {
      "cell_type": "markdown",
      "metadata": {
        "id": "rrHO4DTgR2lG"
      },
      "source": [
        "【c】一维数组与二维数组的操作"
      ]
    },
    {
      "cell_type": "markdown",
      "metadata": {
        "id": "OvPABhbbR2lH"
      },
      "source": [
        "当一维数组 𝐴𝑘 与二维数组 𝐵𝑚,𝑛 操作时，等价于把一维数组视作 𝐴1,𝑘 的二维数组，使用的广播法则与【b】中一致，当 𝑘!=𝑛 且 𝑘,𝑛 都不是 1 时报错。"
      ]
    },
    {
      "cell_type": "code",
      "metadata": {
        "colab": {
          "base_uri": "https://localhost:8080/"
        },
        "id": "rPPgBONUR2lH",
        "outputId": "8f7fbfca-2d3f-4048-8722-6b8ecc95f978"
      },
      "source": [
        "np.ones(3) + np.ones((2,3))"
      ],
      "execution_count": 148,
      "outputs": [
        {
          "output_type": "execute_result",
          "data": {
            "text/plain": [
              "array([[2., 2., 2.],\n",
              "       [2., 2., 2.]])"
            ]
          },
          "metadata": {
            "tags": []
          },
          "execution_count": 148
        }
      ]
    },
    {
      "cell_type": "code",
      "metadata": {
        "colab": {
          "base_uri": "https://localhost:8080/"
        },
        "id": "Ompb6lXAR2lH",
        "outputId": "b30094af-5673-4ae3-cbfb-2f2d3f5debc9"
      },
      "source": [
        "np.ones(3) + np.ones((2,1))"
      ],
      "execution_count": 149,
      "outputs": [
        {
          "output_type": "execute_result",
          "data": {
            "text/plain": [
              "array([[2., 2., 2.],\n",
              "       [2., 2., 2.]])"
            ]
          },
          "metadata": {
            "tags": []
          },
          "execution_count": 149
        }
      ]
    },
    {
      "cell_type": "code",
      "metadata": {
        "colab": {
          "base_uri": "https://localhost:8080/"
        },
        "id": "K6JmBzPJR2lI",
        "outputId": "956d9de9-db0a-4b69-a907-69b22dafea0e"
      },
      "source": [
        "np.ones(1) + np.ones((2,3))"
      ],
      "execution_count": 150,
      "outputs": [
        {
          "output_type": "execute_result",
          "data": {
            "text/plain": [
              "array([[2., 2., 2.],\n",
              "       [2., 2., 2.]])"
            ]
          },
          "metadata": {
            "tags": []
          },
          "execution_count": 150
        }
      ]
    },
    {
      "cell_type": "markdown",
      "metadata": {
        "id": "k_FmJRT2R2lI"
      },
      "source": [
        "# 6. 向量与矩阵的计算 "
      ]
    },
    {
      "cell_type": "markdown",
      "metadata": {
        "id": "dnz9RGBqR2lI"
      },
      "source": [
        "【a】向量内积： dot"
      ]
    },
    {
      "cell_type": "code",
      "metadata": {
        "colab": {
          "base_uri": "https://localhost:8080/"
        },
        "id": "rpjbHkY0R2lI",
        "outputId": "79c0cf84-09bb-4222-8aad-3e5948552b6e"
      },
      "source": [
        "a = np.array([1,2,3])\n",
        "b = np.array([1,3,5])\n",
        "a.dot(b) "
      ],
      "execution_count": 151,
      "outputs": [
        {
          "output_type": "execute_result",
          "data": {
            "text/plain": [
              "22"
            ]
          },
          "metadata": {
            "tags": []
          },
          "execution_count": 151
        }
      ]
    },
    {
      "cell_type": "markdown",
      "metadata": {
        "id": "p2P4nafQR2lI"
      },
      "source": [
        "【b】向量范数和矩阵范数： np.linalg.norm"
      ]
    },
    {
      "cell_type": "code",
      "metadata": {
        "colab": {
          "base_uri": "https://localhost:8080/"
        },
        "id": "GkMITDwxR2lI",
        "outputId": "75b2cffb-dfdc-43cc-fff5-c1f267444ed1"
      },
      "source": [
        "martix_target =  np.arange(4).reshape(-1,2)\n",
        "martix_target"
      ],
      "execution_count": 152,
      "outputs": [
        {
          "output_type": "execute_result",
          "data": {
            "text/plain": [
              "array([[0, 1],\n",
              "       [2, 3]])"
            ]
          },
          "metadata": {
            "tags": []
          },
          "execution_count": 152
        }
      ]
    },
    {
      "cell_type": "code",
      "metadata": {
        "colab": {
          "base_uri": "https://localhost:8080/"
        },
        "id": "uTVhpUVPR2lJ",
        "outputId": "47013e90-3d58-4ed3-b7dd-058251c5b106"
      },
      "source": [
        "np.linalg.norm(martix_target, 'fro')"
      ],
      "execution_count": 153,
      "outputs": [
        {
          "output_type": "execute_result",
          "data": {
            "text/plain": [
              "3.7416573867739413"
            ]
          },
          "metadata": {
            "tags": []
          },
          "execution_count": 153
        }
      ]
    },
    {
      "cell_type": "code",
      "metadata": {
        "colab": {
          "base_uri": "https://localhost:8080/"
        },
        "id": "sSKeBu5yR2lJ",
        "outputId": "ad15ce4f-e9eb-4225-ebb7-3ded63396fc5"
      },
      "source": [
        "np.linalg.norm(martix_target, np.inf)"
      ],
      "execution_count": 154,
      "outputs": [
        {
          "output_type": "execute_result",
          "data": {
            "text/plain": [
              "5.0"
            ]
          },
          "metadata": {
            "tags": []
          },
          "execution_count": 154
        }
      ]
    },
    {
      "cell_type": "markdown",
      "metadata": {
        "id": "N8RRx8ndR2lJ"
      },
      "source": [
        "【c】矩阵乘法: @"
      ]
    },
    {
      "cell_type": "code",
      "metadata": {
        "colab": {
          "base_uri": "https://localhost:8080/"
        },
        "id": "MSSPLaAgR2lJ",
        "outputId": "4c4b1797-888e-49ce-b17e-54fb505e67ae"
      },
      "source": [
        "a = np.arange(4).reshape(-1,2)\n",
        "b = np.arange(-4,0).reshape(-1,2)\n",
        "a, b"
      ],
      "execution_count": 155,
      "outputs": [
        {
          "output_type": "execute_result",
          "data": {
            "text/plain": [
              "(array([[0, 1],\n",
              "        [2, 3]]), array([[-4, -3],\n",
              "        [-2, -1]]))"
            ]
          },
          "metadata": {
            "tags": []
          },
          "execution_count": 155
        }
      ]
    },
    {
      "cell_type": "code",
      "metadata": {
        "colab": {
          "base_uri": "https://localhost:8080/"
        },
        "id": "VQiNkX-wR2lJ",
        "outputId": "c63f896b-308a-4d55-f951-e9f192b9d9c6"
      },
      "source": [
        "a @ b"
      ],
      "execution_count": 156,
      "outputs": [
        {
          "output_type": "execute_result",
          "data": {
            "text/plain": [
              "array([[ -2,  -1],\n",
              "       [-14,  -9]])"
            ]
          },
          "metadata": {
            "tags": []
          },
          "execution_count": 156
        }
      ]
    },
    {
      "cell_type": "markdown",
      "metadata": {
        "id": "6SJUy_SZR2lJ"
      },
      "source": [
        "# 练习"
      ]
    },
    {
      "cell_type": "markdown",
      "metadata": {
        "id": "1X4v4os5R2lK"
      },
      "source": [
        "# EX1: 利用列表推导式写矩阵乘法"
      ]
    },
    {
      "cell_type": "code",
      "metadata": {
        "colab": {
          "base_uri": "https://localhost:8080/"
        },
        "id": "AaczS3YSR2lK",
        "outputId": "f373a1ad-7938-4393-8d9d-09a56dc596d2"
      },
      "source": [
        "M1 = np.random.rand(2,3)\n",
        "M2 = np.random.rand(3,4)\n",
        "M1, M2"
      ],
      "execution_count": 157,
      "outputs": [
        {
          "output_type": "execute_result",
          "data": {
            "text/plain": [
              "(array([[7.20324493e-01, 1.14374817e-04, 3.02332573e-01],\n",
              "        [1.46755891e-01, 9.23385948e-02, 1.86260211e-01]]),\n",
              " array([[0.34556073, 0.39676747, 0.53881673, 0.41919451],\n",
              "        [0.6852195 , 0.20445225, 0.87811744, 0.02738759],\n",
              "        [0.67046751, 0.4173048 , 0.55868983, 0.14038694]]))"
            ]
          },
          "metadata": {
            "tags": []
          },
          "execution_count": 157
        }
      ]
    },
    {
      "cell_type": "code",
      "metadata": {
        "colab": {
          "base_uri": "https://localhost:8080/"
        },
        "id": "DcNyASVwR2lK",
        "outputId": "9c0a423e-c070-40c1-e580-56d0c9f6b687"
      },
      "source": [
        "res = np.empty((M1.shape[0],M2.shape[1]))\n",
        "res"
      ],
      "execution_count": 158,
      "outputs": [
        {
          "output_type": "execute_result",
          "data": {
            "text/plain": [
              "array([[-3.5, -1.5,  0.5,  4.5],\n",
              "       [ 1. ,  5. ,  3. , -9. ]])"
            ]
          },
          "metadata": {
            "tags": []
          },
          "execution_count": 158
        }
      ]
    },
    {
      "cell_type": "code",
      "metadata": {
        "id": "7mb_ZNEIR2lK"
      },
      "source": [
        "res = [[sum([M1[i][k] * M2[k][j] for k in range(M1.shape[1])]) for j in range(M2.shape[1])] for i in range(M1.shape[0])]"
      ],
      "execution_count": 159,
      "outputs": []
    },
    {
      "cell_type": "code",
      "metadata": {
        "colab": {
          "base_uri": "https://localhost:8080/"
        },
        "id": "T5DrM_mKR2lK",
        "outputId": "e416b999-b9af-4504-dc87-cd6323fe706e"
      },
      "source": [
        "res = np.array(res)\n",
        "res"
      ],
      "execution_count": 160,
      "outputs": [
        {
          "output_type": "execute_result",
          "data": {
            "text/plain": [
              "array([[0.45169839, 0.41198955, 0.55713346, 0.34440275],\n",
              "       [0.2388667 , 0.15483408, 0.26422035, 0.0901967 ]])"
            ]
          },
          "metadata": {
            "tags": []
          },
          "execution_count": 160
        }
      ]
    },
    {
      "cell_type": "code",
      "metadata": {
        "colab": {
          "base_uri": "https://localhost:8080/"
        },
        "id": "Rik6lKwFR2lK",
        "outputId": "c8d59ac8-2ef6-4c5e-8ff8-4613c3a06aea"
      },
      "source": [
        "((M1@M2 - res) < 1e-15).all()"
      ],
      "execution_count": 161,
      "outputs": [
        {
          "output_type": "execute_result",
          "data": {
            "text/plain": [
              "True"
            ]
          },
          "metadata": {
            "tags": []
          },
          "execution_count": 161
        }
      ]
    },
    {
      "cell_type": "markdown",
      "metadata": {
        "id": "-CWe-gkaR2lL"
      },
      "source": [
        "# EX2: 更新矩阵"
      ]
    },
    {
      "cell_type": "code",
      "metadata": {
        "colab": {
          "base_uri": "https://localhost:8080/"
        },
        "id": "yFTqZ6WrR2lL",
        "outputId": "439e9b13-1107-48b4-de00-cd179c485216"
      },
      "source": [
        "A = np.arange(1,10).reshape(3, -1)\n",
        "A"
      ],
      "execution_count": 162,
      "outputs": [
        {
          "output_type": "execute_result",
          "data": {
            "text/plain": [
              "array([[1, 2, 3],\n",
              "       [4, 5, 6],\n",
              "       [7, 8, 9]])"
            ]
          },
          "metadata": {
            "tags": []
          },
          "execution_count": 162
        }
      ]
    },
    {
      "cell_type": "code",
      "metadata": {
        "colab": {
          "base_uri": "https://localhost:8080/"
        },
        "id": "44oO9TloR2lL",
        "outputId": "347e6778-3962-4732-ec85-03abdd44db44"
      },
      "source": [
        "B = A * (1/A).sum(1).reshape(-1,1)\n",
        "B"
      ],
      "execution_count": 163,
      "outputs": [
        {
          "output_type": "execute_result",
          "data": {
            "text/plain": [
              "array([[1.83333333, 3.66666667, 5.5       ],\n",
              "       [2.46666667, 3.08333333, 3.7       ],\n",
              "       [2.65277778, 3.03174603, 3.41071429]])"
            ]
          },
          "metadata": {
            "tags": []
          },
          "execution_count": 163
        }
      ]
    },
    {
      "cell_type": "markdown",
      "metadata": {
        "id": "WpGaRP77R2lL"
      },
      "source": [
        "# EX3: 卡方统计量"
      ]
    },
    {
      "cell_type": "code",
      "metadata": {
        "id": "RhpUbxFbR2lM"
      },
      "source": [
        "np.random.seed(0)\n",
        "A = np.random.randint(10, 20, (8, 5))"
      ],
      "execution_count": 164,
      "outputs": []
    },
    {
      "cell_type": "code",
      "metadata": {
        "id": "nKu210MUR2lM"
      },
      "source": [
        "B = A.sum(0).reshape(-1, 1) * A.sum(1) / A.sum()"
      ],
      "execution_count": 165,
      "outputs": []
    },
    {
      "cell_type": "code",
      "metadata": {
        "colab": {
          "base_uri": "https://localhost:8080/",
          "height": 164
        },
        "id": "UeoHwdS5R2lM",
        "outputId": "8d51ea2a-aee1-437a-a818-830114d68108"
      },
      "source": [
        "((A - B)**2 / B).sum()"
      ],
      "execution_count": 167,
      "outputs": [
        {
          "output_type": "error",
          "ename": "ValueError",
          "evalue": "ignored",
          "traceback": [
            "\u001b[0;31m---------------------------------------------------------------------------\u001b[0m",
            "\u001b[0;31mValueError\u001b[0m                                Traceback (most recent call last)",
            "\u001b[0;32m<ipython-input-167-53859a94c8be>\u001b[0m in \u001b[0;36m<module>\u001b[0;34m()\u001b[0m\n\u001b[0;32m----> 1\u001b[0;31m \u001b[0;34m(\u001b[0m\u001b[0;34m(\u001b[0m\u001b[0mA\u001b[0m \u001b[0;34m-\u001b[0m \u001b[0mB\u001b[0m\u001b[0;34m)\u001b[0m\u001b[0;34m**\u001b[0m\u001b[0;36m2\u001b[0m \u001b[0;34m/\u001b[0m \u001b[0mB\u001b[0m\u001b[0;34m)\u001b[0m\u001b[0;34m.\u001b[0m\u001b[0msum\u001b[0m\u001b[0;34m(\u001b[0m\u001b[0;34m)\u001b[0m\u001b[0;34m\u001b[0m\u001b[0;34m\u001b[0m\u001b[0m\n\u001b[0m",
            "\u001b[0;31mValueError\u001b[0m: operands could not be broadcast together with shapes (8,5) (5,8) "
          ]
        }
      ]
    },
    {
      "cell_type": "code",
      "metadata": {
        "id": "UVvX5o6TR2lM"
      },
      "source": [
        "B = A.sum(0) * A.sum(1).reshape(-1, 1) / A.sum()"
      ],
      "execution_count": 168,
      "outputs": []
    },
    {
      "cell_type": "code",
      "metadata": {
        "colab": {
          "base_uri": "https://localhost:8080/"
        },
        "id": "z5xJRjKzR2lM",
        "outputId": "1ae30653-30d9-4c4d-c88e-4fe065c3b4a6"
      },
      "source": [
        "((A - B)**2 / B).sum()"
      ],
      "execution_count": 169,
      "outputs": [
        {
          "output_type": "execute_result",
          "data": {
            "text/plain": [
              "11.842696601945802"
            ]
          },
          "metadata": {
            "tags": []
          },
          "execution_count": 169
        }
      ]
    },
    {
      "cell_type": "markdown",
      "metadata": {
        "id": "9k5RqsZNR2lM"
      },
      "source": [
        "# EX4: 改进矩阵计算的性能"
      ]
    },
    {
      "cell_type": "code",
      "metadata": {
        "id": "yhBqDNyAR2lM"
      },
      "source": [
        "np.random.seed(0)\n",
        "m, n, p = 100, 80, 50\n",
        "B = np.random.randint(0, 2, (m, p))\n",
        "U = np.random.randint(0, 2, (p, n))\n",
        "Z = np.random.randint(0, 2, (m, n))"
      ],
      "execution_count": 170,
      "outputs": []
    },
    {
      "cell_type": "markdown",
      "metadata": {
        "id": "fH5GgxZBR2lN"
      },
      "source": [
        "**原方法：**"
      ]
    },
    {
      "cell_type": "code",
      "metadata": {
        "colab": {
          "base_uri": "https://localhost:8080/"
        },
        "id": "rcG-mtlsR2lN",
        "outputId": "26e5dc8d-d39a-47cb-c4b8-3612a0bdcda0"
      },
      "source": [
        "def solution(B=B, U=U, Z=Z):\n",
        "    L_res = []\n",
        "    for i in range(m):\n",
        "        for j in range(n):\n",
        "            norm_value = ((B[i]-U[:,j])**2).sum()\n",
        "            L_res.append(norm_value*Z[i][j])\n",
        "    return sum(L_res)\n",
        "\n",
        "solution(B, U, Z)"
      ],
      "execution_count": 171,
      "outputs": [
        {
          "output_type": "execute_result",
          "data": {
            "text/plain": [
              "100566"
            ]
          },
          "metadata": {
            "tags": []
          },
          "execution_count": 171
        }
      ]
    },
    {
      "cell_type": "markdown",
      "metadata": {
        "id": "bljxpkOlR2lN"
      },
      "source": [
        "**尝试一：**"
      ]
    },
    {
      "cell_type": "code",
      "metadata": {
        "colab": {
          "base_uri": "https://localhost:8080/"
        },
        "id": "G8mtGzfdR2lN",
        "outputId": "02431445-27d5-470c-b4b3-17547120af72"
      },
      "source": [
        "(((B.sum(1).reshape(-1, 1) - U.sum(0))**2).sum() * Z).sum()"
      ],
      "execution_count": 172,
      "outputs": [
        {
          "output_type": "execute_result",
          "data": {
            "text/plain": [
              "664306956"
            ]
          },
          "metadata": {
            "tags": []
          },
          "execution_count": 172
        }
      ]
    },
    {
      "cell_type": "code",
      "metadata": {
        "colab": {
          "base_uri": "https://localhost:8080/"
        },
        "id": "9RP_RsSaR2lN",
        "outputId": "5dc23781-deec-4230-be07-02bf020802b9"
      },
      "source": [
        "(B.sum(1).reshape(-1, 1) - U.sum(0))"
      ],
      "execution_count": 173,
      "outputs": [
        {
          "output_type": "execute_result",
          "data": {
            "text/plain": [
              "array([[ 3,  4,  5, ...,  1,  5,  4],\n",
              "       [-1,  0,  1, ..., -3,  1,  0],\n",
              "       [-1,  0,  1, ..., -3,  1,  0],\n",
              "       ...,\n",
              "       [-4, -3, -2, ..., -6, -2, -3],\n",
              "       [ 1,  2,  3, ..., -1,  3,  2],\n",
              "       [-4, -3, -2, ..., -6, -2, -3]])"
            ]
          },
          "metadata": {
            "tags": []
          },
          "execution_count": 173
        }
      ]
    },
    {
      "cell_type": "code",
      "metadata": {
        "colab": {
          "base_uri": "https://localhost:8080/"
        },
        "id": "ifDD29LaR2lN",
        "outputId": "66cb27eb-2942-45a1-f8bd-1f096fb29b80"
      },
      "source": [
        "(B.sum(1).reshape(-1, 1) - U.sum(0))**2"
      ],
      "execution_count": 174,
      "outputs": [
        {
          "output_type": "execute_result",
          "data": {
            "text/plain": [
              "array([[ 9, 16, 25, ...,  1, 25, 16],\n",
              "       [ 1,  0,  1, ...,  9,  1,  0],\n",
              "       [ 1,  0,  1, ...,  9,  1,  0],\n",
              "       ...,\n",
              "       [16,  9,  4, ..., 36,  4,  9],\n",
              "       [ 1,  4,  9, ...,  1,  9,  4],\n",
              "       [16,  9,  4, ..., 36,  4,  9]])"
            ]
          },
          "metadata": {
            "tags": []
          },
          "execution_count": 174
        }
      ]
    },
    {
      "cell_type": "code",
      "metadata": {
        "colab": {
          "base_uri": "https://localhost:8080/"
        },
        "id": "H0xCXlHMR2lN",
        "outputId": "73fa45fe-8dc6-4bcf-a9df-b9c986eb8324"
      },
      "source": [
        "((B.sum(1).reshape(-1, 1) - U.sum(0))**2).sum()"
      ],
      "execution_count": 175,
      "outputs": [
        {
          "output_type": "execute_result",
          "data": {
            "text/plain": [
              "164148"
            ]
          },
          "metadata": {
            "tags": []
          },
          "execution_count": 175
        }
      ]
    },
    {
      "cell_type": "markdown",
      "metadata": {
        "id": "gwEMPKEhR2lO"
      },
      "source": [
        "上述方法和题目的结果100566不一致，一步一步分解来看结果，问题出在((B.sum(1).reshape(-1, 1) - U.sum(0))**2).sum()最后的sum()这里，这里应该得到一个矩阵，但是却得出了一个数"
      ]
    },
    {
      "cell_type": "markdown",
      "metadata": {
        "id": "zEaBMvLcR2lO"
      },
      "source": [
        "**尝试二：**"
      ]
    },
    {
      "cell_type": "markdown",
      "metadata": {
        "id": "u10brMGbR2lO"
      },
      "source": [
        "‖𝐚‖22  表示向量 𝐚 的分量平方和 ∑𝑖𝑎2𝑖，根据题目给出的这个补充信息，我们可以把∑𝑖=1𝑚∑𝑗=1𝑛‖𝐵𝑖−𝑈𝑗‖22𝑍𝑖𝑗 转换一下，例如（a-b)^2 = a^2 + b^2 - 2ab"
      ]
    },
    {
      "cell_type": "code",
      "metadata": {
        "colab": {
          "base_uri": "https://localhost:8080/"
        },
        "id": "1KLxgi2oR2lO",
        "outputId": "bdea8dbc-4235-4dcb-affc-807725a4ccb0"
      },
      "source": [
        "(((B**2).sum(1).reshape(-1,1) + (U**2).sum(0) - 2*(B @ U)) * Z).sum()"
      ],
      "execution_count": 176,
      "outputs": [
        {
          "output_type": "execute_result",
          "data": {
            "text/plain": [
              "100566"
            ]
          },
          "metadata": {
            "tags": []
          },
          "execution_count": 176
        }
      ]
    },
    {
      "cell_type": "markdown",
      "metadata": {
        "id": "b3HYRYhDR2lO"
      },
      "source": [
        "这里结果就是对的了，这个方法性能优化的地方在于没有用两个for loop嵌套"
      ]
    },
    {
      "cell_type": "markdown",
      "metadata": {
        "id": "HG1qJvD3R2lP"
      },
      "source": [
        "# EX5：连续整数的最大长度"
      ]
    },
    {
      "cell_type": "markdown",
      "metadata": {
        "id": "nt7rJmk5R2lP"
      },
      "source": [
        "**尝试一：**"
      ]
    },
    {
      "cell_type": "code",
      "metadata": {
        "id": "-Z18sXAsR2lP"
      },
      "source": [
        "def max_length(L):\n",
        "    l = [x if x == 1 else 0 for x in np.diff(L)]\n",
        "    new = np.diff(np.nonzero(l))\n",
        "    res = new[new == 1]\n",
        "    return len(res) + 1"
      ],
      "execution_count": 177,
      "outputs": []
    },
    {
      "cell_type": "code",
      "metadata": {
        "colab": {
          "base_uri": "https://localhost:8080/"
        },
        "id": "AvrmHaW4R2lP",
        "outputId": "af290128-dc33-4275-9833-b7cda7a5488a"
      },
      "source": [
        "max_length([3,2,1,2,3,4,6])"
      ],
      "execution_count": 178,
      "outputs": [
        {
          "output_type": "execute_result",
          "data": {
            "text/plain": [
              "3"
            ]
          },
          "metadata": {
            "tags": []
          },
          "execution_count": 178
        }
      ]
    },
    {
      "cell_type": "code",
      "metadata": {
        "colab": {
          "base_uri": "https://localhost:8080/"
        },
        "id": "FxrfZbT_R2lP",
        "outputId": "d0fd7078-7e14-4482-9c60-4cfababde719"
      },
      "source": [
        "max_length([3,2,1,2,3,4,6, 8, 9, 10, 11])"
      ],
      "execution_count": 179,
      "outputs": [
        {
          "output_type": "execute_result",
          "data": {
            "text/plain": [
              "5"
            ]
          },
          "metadata": {
            "tags": []
          },
          "execution_count": 179
        }
      ]
    },
    {
      "cell_type": "code",
      "metadata": {
        "colab": {
          "base_uri": "https://localhost:8080/"
        },
        "id": "LwND_infR2lQ",
        "outputId": "f5adbc5b-377a-4b92-9810-12f42dbb8260"
      },
      "source": [
        "L = [3,2,1,2,3,4,6, 8, 9, 10, 11]\n",
        "l = [x if x == 1 else 0 for x in np.diff(L)]\n",
        "l"
      ],
      "execution_count": 180,
      "outputs": [
        {
          "output_type": "execute_result",
          "data": {
            "text/plain": [
              "[0, 0, 1, 1, 1, 0, 0, 1, 1, 1]"
            ]
          },
          "metadata": {
            "tags": []
          },
          "execution_count": 180
        }
      ]
    },
    {
      "cell_type": "code",
      "metadata": {
        "colab": {
          "base_uri": "https://localhost:8080/"
        },
        "id": "1EVxoCOxR2lQ",
        "outputId": "b52dd061-7b85-4edb-88d6-d7561cacf9a2"
      },
      "source": [
        "new = np.diff(np.nonzero(l))\n",
        "new"
      ],
      "execution_count": 181,
      "outputs": [
        {
          "output_type": "execute_result",
          "data": {
            "text/plain": [
              "array([[1, 1, 3, 1, 1]])"
            ]
          },
          "metadata": {
            "tags": []
          },
          "execution_count": 181
        }
      ]
    },
    {
      "cell_type": "code",
      "metadata": {
        "colab": {
          "base_uri": "https://localhost:8080/"
        },
        "id": "oh4RuUvzR2lQ",
        "outputId": "4592843e-c6d0-4ed3-99ed-77d57b8be52f"
      },
      "source": [
        "new[new == 1]"
      ],
      "execution_count": 182,
      "outputs": [
        {
          "output_type": "execute_result",
          "data": {
            "text/plain": [
              "array([1, 1, 1, 1])"
            ]
          },
          "metadata": {
            "tags": []
          },
          "execution_count": 182
        }
      ]
    },
    {
      "cell_type": "code",
      "metadata": {
        "colab": {
          "base_uri": "https://localhost:8080/"
        },
        "id": "EiwIxAWHR2lQ",
        "outputId": "22231c46-75af-4438-d267-37b5ae28a349"
      },
      "source": [
        "len(new[new == 1])"
      ],
      "execution_count": 183,
      "outputs": [
        {
          "output_type": "execute_result",
          "data": {
            "text/plain": [
              "4"
            ]
          },
          "metadata": {
            "tags": []
          },
          "execution_count": 183
        }
      ]
    },
    {
      "cell_type": "markdown",
      "metadata": {
        "id": "9USvWA3iR2lQ"
      },
      "source": [
        "可以看到这里出了问题，因为有三个数都等于1，但是这三个数并不是连续的1，所以算出来的length就不对了"
      ]
    },
    {
      "cell_type": "markdown",
      "metadata": {
        "id": "TrsB5piyR2lQ"
      },
      "source": [
        "**尝试二：**"
      ]
    },
    {
      "cell_type": "code",
      "metadata": {
        "colab": {
          "base_uri": "https://localhost:8080/"
        },
        "id": "5UaducPwR2lQ",
        "outputId": "d5628c6c-3b5e-4212-d3d0-8679f4ff93e0"
      },
      "source": [
        "L = [3, 2, 1, 2, 3, 4, 6, 8, 9, 10, 12]\n",
        "lst = np.diff(L)\n",
        "lst"
      ],
      "execution_count": 184,
      "outputs": [
        {
          "output_type": "execute_result",
          "data": {
            "text/plain": [
              "array([-1, -1,  1,  1,  1,  2,  2,  1,  1,  2])"
            ]
          },
          "metadata": {
            "tags": []
          },
          "execution_count": 184
        }
      ]
    },
    {
      "cell_type": "code",
      "metadata": {
        "colab": {
          "base_uri": "https://localhost:8080/"
        },
        "id": "Y9WGEHH9R2lR",
        "outputId": "46b796d3-3b6e-4080-bcab-cdbd2f6631f8"
      },
      "source": [
        "np.where(lst != 1)"
      ],
      "execution_count": 185,
      "outputs": [
        {
          "output_type": "execute_result",
          "data": {
            "text/plain": [
              "(array([0, 1, 5, 6, 9]),)"
            ]
          },
          "metadata": {
            "tags": []
          },
          "execution_count": 185
        }
      ]
    },
    {
      "cell_type": "code",
      "metadata": {
        "colab": {
          "base_uri": "https://localhost:8080/"
        },
        "id": "4WYLjp0XR2lR",
        "outputId": "1a374e18-5f74-4dea-97d6-32da0dd8e888"
      },
      "source": [
        "np.diff(np.array(np.where(lst != 1)))"
      ],
      "execution_count": 186,
      "outputs": [
        {
          "output_type": "execute_result",
          "data": {
            "text/plain": [
              "array([[1, 4, 1, 3]])"
            ]
          },
          "metadata": {
            "tags": []
          },
          "execution_count": 186
        }
      ]
    },
    {
      "cell_type": "code",
      "metadata": {
        "colab": {
          "base_uri": "https://localhost:8080/"
        },
        "id": "scaEFYVDR2lR",
        "outputId": "c6bc873f-80d1-4473-dd1c-38b4701833fa"
      },
      "source": [
        "np.diff(np.array(np.where(lst != 1))).max()"
      ],
      "execution_count": 187,
      "outputs": [
        {
          "output_type": "execute_result",
          "data": {
            "text/plain": [
              "4"
            ]
          },
          "metadata": {
            "tags": []
          },
          "execution_count": 187
        }
      ]
    },
    {
      "cell_type": "code",
      "metadata": {
        "id": "bw21-V-vR2lR"
      },
      "source": [
        "def max_len(L):\n",
        "    lst = np.r_[0, np.diff(L), 0]\n",
        "    new = np.array(np.where(lst != 1))\n",
        "    return np.diff(new).max()"
      ],
      "execution_count": 188,
      "outputs": []
    },
    {
      "cell_type": "markdown",
      "metadata": {
        "id": "e56oNbJiR2lR"
      },
      "source": [
        "test1:"
      ]
    },
    {
      "cell_type": "code",
      "metadata": {
        "colab": {
          "base_uri": "https://localhost:8080/"
        },
        "id": "ElDcsbUCR2lR",
        "outputId": "2494f8c3-37c3-4317-caa5-f168c6881af4"
      },
      "source": [
        "max_len([3, 2, 1, 2, 3, 4, 6, 8, 9, 10, 12])"
      ],
      "execution_count": 189,
      "outputs": [
        {
          "output_type": "execute_result",
          "data": {
            "text/plain": [
              "4"
            ]
          },
          "metadata": {
            "tags": []
          },
          "execution_count": 189
        }
      ]
    },
    {
      "cell_type": "code",
      "metadata": {
        "colab": {
          "base_uri": "https://localhost:8080/"
        },
        "id": "1LHdSAh8R2lR",
        "outputId": "1bea7200-3725-4baf-8da7-59cb5058942a"
      },
      "source": [
        "lst = np.r_[0, np.diff([3, 2, 1, 2, 3, 4, 6, 8, 9, 10, 12]), 0]\n",
        "lst"
      ],
      "execution_count": 190,
      "outputs": [
        {
          "output_type": "execute_result",
          "data": {
            "text/plain": [
              "array([ 0, -1, -1,  1,  1,  1,  2,  2,  1,  1,  2,  0])"
            ]
          },
          "metadata": {
            "tags": []
          },
          "execution_count": 190
        }
      ]
    },
    {
      "cell_type": "code",
      "metadata": {
        "colab": {
          "base_uri": "https://localhost:8080/"
        },
        "id": "ImZ7e7T9R2lS",
        "outputId": "863e2d9c-ebcb-4637-f97d-01e742c777ac"
      },
      "source": [
        "new = np.array(np.where(lst != 1))\n",
        "new"
      ],
      "execution_count": 191,
      "outputs": [
        {
          "output_type": "execute_result",
          "data": {
            "text/plain": [
              "array([[ 0,  1,  2,  6,  7, 10, 11]])"
            ]
          },
          "metadata": {
            "tags": []
          },
          "execution_count": 191
        }
      ]
    },
    {
      "cell_type": "code",
      "metadata": {
        "colab": {
          "base_uri": "https://localhost:8080/"
        },
        "id": "kMxdVPfOR2lS",
        "outputId": "6018afae-b9b8-40d9-ff90-afda5e766cee"
      },
      "source": [
        "np.diff(new).max()"
      ],
      "execution_count": 192,
      "outputs": [
        {
          "output_type": "execute_result",
          "data": {
            "text/plain": [
              "4"
            ]
          },
          "metadata": {
            "tags": []
          },
          "execution_count": 192
        }
      ]
    },
    {
      "cell_type": "markdown",
      "metadata": {
        "id": "GfULI26IR2lS"
      },
      "source": [
        "test2:"
      ]
    },
    {
      "cell_type": "code",
      "metadata": {
        "colab": {
          "base_uri": "https://localhost:8080/"
        },
        "id": "E-rcplsLR2lS",
        "outputId": "58737031-6be4-464d-ff47-5d626d167161"
      },
      "source": [
        "max_length([1,2,5,6,7])"
      ],
      "execution_count": 193,
      "outputs": [
        {
          "output_type": "execute_result",
          "data": {
            "text/plain": [
              "2"
            ]
          },
          "metadata": {
            "tags": []
          },
          "execution_count": 193
        }
      ]
    },
    {
      "cell_type": "code",
      "metadata": {
        "colab": {
          "base_uri": "https://localhost:8080/"
        },
        "id": "r52CGd4CR2lS",
        "outputId": "25c9cf86-55f1-4327-d698-d52a09914d9e"
      },
      "source": [
        "np.diff([1,2,5,6,7])"
      ],
      "execution_count": 194,
      "outputs": [
        {
          "output_type": "execute_result",
          "data": {
            "text/plain": [
              "array([1, 3, 1, 1])"
            ]
          },
          "metadata": {
            "tags": []
          },
          "execution_count": 194
        }
      ]
    },
    {
      "cell_type": "code",
      "metadata": {
        "colab": {
          "base_uri": "https://localhost:8080/"
        },
        "id": "xp11CA0IR2lS",
        "outputId": "4f70b4ad-5aeb-4e9c-fb10-904597358392"
      },
      "source": [
        "lst = np.r_[0, np.diff([1,2,5,6,7]), 0]\n",
        "lst"
      ],
      "execution_count": 195,
      "outputs": [
        {
          "output_type": "execute_result",
          "data": {
            "text/plain": [
              "array([0, 1, 3, 1, 1, 0])"
            ]
          },
          "metadata": {
            "tags": []
          },
          "execution_count": 195
        }
      ]
    },
    {
      "cell_type": "code",
      "metadata": {
        "colab": {
          "base_uri": "https://localhost:8080/"
        },
        "id": "Rv92eGXqR2lT",
        "outputId": "e4632e21-2970-4fbf-9f22-07ee585cb563"
      },
      "source": [
        "new = np.array(np.where(lst != 1))\n",
        "new"
      ],
      "execution_count": 196,
      "outputs": [
        {
          "output_type": "execute_result",
          "data": {
            "text/plain": [
              "array([[0, 2, 5]])"
            ]
          },
          "metadata": {
            "tags": []
          },
          "execution_count": 196
        }
      ]
    },
    {
      "cell_type": "code",
      "metadata": {
        "colab": {
          "base_uri": "https://localhost:8080/"
        },
        "id": "YJqJpBCFR2lT",
        "outputId": "f797fd67-700a-46bd-8d78-093f55942cb3"
      },
      "source": [
        "np.diff(new).max()"
      ],
      "execution_count": 197,
      "outputs": [
        {
          "output_type": "execute_result",
          "data": {
            "text/plain": [
              "3"
            ]
          },
          "metadata": {
            "tags": []
          },
          "execution_count": 197
        }
      ]
    },
    {
      "cell_type": "markdown",
      "metadata": {
        "id": "ul3Ti6eRR2lT"
      },
      "source": [
        "test3:"
      ]
    },
    {
      "cell_type": "code",
      "metadata": {
        "colab": {
          "base_uri": "https://localhost:8080/"
        },
        "id": "mn4696JGR2lT",
        "outputId": "6b6868a0-c7ae-4a02-c86b-3f4da4cef0fa"
      },
      "source": [
        "max_len([3,2,1,2,3,4,6])"
      ],
      "execution_count": 198,
      "outputs": [
        {
          "output_type": "execute_result",
          "data": {
            "text/plain": [
              "4"
            ]
          },
          "metadata": {
            "tags": []
          },
          "execution_count": 198
        }
      ]
    },
    {
      "cell_type": "code",
      "metadata": {
        "colab": {
          "base_uri": "https://localhost:8080/"
        },
        "id": "7TOD1J4AR2lT",
        "outputId": "f9ba1009-1a72-42d1-db8f-7cf79fd8a263"
      },
      "source": [
        "lst = np.r_[0, np.diff([3,2,1,2,3,4,6]), 0]\n",
        "lst"
      ],
      "execution_count": 199,
      "outputs": [
        {
          "output_type": "execute_result",
          "data": {
            "text/plain": [
              "array([ 0, -1, -1,  1,  1,  1,  2,  0])"
            ]
          },
          "metadata": {
            "tags": []
          },
          "execution_count": 199
        }
      ]
    },
    {
      "cell_type": "code",
      "metadata": {
        "colab": {
          "base_uri": "https://localhost:8080/"
        },
        "id": "_temUFn-R2lT",
        "outputId": "306b74e1-0691-4271-947f-6f030b63aa43"
      },
      "source": [
        "new = np.array(np.where(lst != 1))\n",
        "new"
      ],
      "execution_count": 200,
      "outputs": [
        {
          "output_type": "execute_result",
          "data": {
            "text/plain": [
              "array([[0, 1, 2, 6, 7]])"
            ]
          },
          "metadata": {
            "tags": []
          },
          "execution_count": 200
        }
      ]
    },
    {
      "cell_type": "code",
      "metadata": {
        "colab": {
          "base_uri": "https://localhost:8080/"
        },
        "id": "XA55XMsSR2lT",
        "outputId": "12d289ed-4788-4a9b-a38d-882da3ecf400"
      },
      "source": [
        "np.diff(new).max()"
      ],
      "execution_count": 201,
      "outputs": [
        {
          "output_type": "execute_result",
          "data": {
            "text/plain": [
              "4"
            ]
          },
          "metadata": {
            "tags": []
          },
          "execution_count": 201
        }
      ]
    },
    {
      "cell_type": "markdown",
      "metadata": {
        "id": "MWmyuNVLR2lU"
      },
      "source": [
        "最终连续整数的最大长度代码为："
      ]
    },
    {
      "cell_type": "code",
      "metadata": {
        "id": "x7n8SbQ9R2lU"
      },
      "source": [
        "def max_len(L):\n",
        "    lst = np.r_[0, np.diff(L), 0]\n",
        "    new = np.array(np.where(lst != 1))\n",
        "    return np.diff(new).max()"
      ],
      "execution_count": 202,
      "outputs": []
    },
    {
      "cell_type": "code",
      "metadata": {
        "id": "qnrBGgGbR2lU"
      },
      "source": [
        ""
      ],
      "execution_count": 202,
      "outputs": []
    }
  ]
}